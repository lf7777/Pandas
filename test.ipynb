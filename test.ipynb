{
 "cells": [
  {
   "cell_type": "code",
   "execution_count": 2,
   "metadata": {},
   "outputs": [],
   "source": [
    "import pandas as pd\n",
    "import numpy as np\n",
    "\n",
    "df = pd.read_csv('/home/lf/mysql_data/100.csv')\n",
    "\n",
    "tmp = df.head(10)"
   ]
  },
  {
   "cell_type": "code",
   "execution_count": 3,
   "metadata": {
    "scrolled": true
   },
   "outputs": [
    {
     "data": {
      "text/plain": [
       "job_place    object\n",
       "money         int64\n",
       "dtype: object"
      ]
     },
     "execution_count": 3,
     "metadata": {},
     "output_type": "execute_result"
    }
   ],
   "source": [
    "tmp[-(tmp['money']>=10000)].dtypes"
   ]
  },
  {
   "cell_type": "code",
   "execution_count": 4,
   "metadata": {},
   "outputs": [],
   "source": [
    "a_values=[['小明','male',18,170,60,'北京海淀',61],\n",
    "          ['小华','female',28,160,50,'上海静安',74],\n",
    "          ['小红','female',22,175,64,'广州天河',59],\n",
    "          ['小青','male',31,182,80,'深圳南山',82],\n",
    "          ['小兰','female',25,165,65,'杭州西湖',98]]"
   ]
  },
  {
   "cell_type": "code",
   "execution_count": 5,
   "metadata": {},
   "outputs": [],
   "source": [
    "a= pd.DataFrame(a_values,index=[1,2,3,4,5],columns=['name','sex','age','height','weight','address','grade'])"
   ]
  },
  {
   "cell_type": "code",
   "execution_count": 6,
   "metadata": {},
   "outputs": [],
   "source": [
    "b = a.copy()"
   ]
  },
  {
   "cell_type": "code",
   "execution_count": 7,
   "metadata": {},
   "outputs": [],
   "source": [
    "b.loc['aaa']=['小芳','female',24,164,52,'美国加州',55]"
   ]
  },
  {
   "cell_type": "code",
   "execution_count": 8,
   "metadata": {},
   "outputs": [
    {
     "data": {
      "text/html": [
       "<div>\n",
       "<style scoped>\n",
       "    .dataframe tbody tr th:only-of-type {\n",
       "        vertical-align: middle;\n",
       "    }\n",
       "\n",
       "    .dataframe tbody tr th {\n",
       "        vertical-align: top;\n",
       "    }\n",
       "\n",
       "    .dataframe thead th {\n",
       "        text-align: right;\n",
       "    }\n",
       "</style>\n",
       "<table border=\"1\" class=\"dataframe\">\n",
       "  <thead>\n",
       "    <tr style=\"text-align: right;\">\n",
       "      <th></th>\n",
       "      <th>name</th>\n",
       "      <th>sex</th>\n",
       "      <th>age</th>\n",
       "      <th>height</th>\n",
       "      <th>weight</th>\n",
       "      <th>address</th>\n",
       "      <th>grade</th>\n",
       "    </tr>\n",
       "  </thead>\n",
       "  <tbody>\n",
       "    <tr>\n",
       "      <th>1</th>\n",
       "      <td>小明</td>\n",
       "      <td>male</td>\n",
       "      <td>18</td>\n",
       "      <td>170</td>\n",
       "      <td>60</td>\n",
       "      <td>北京海淀</td>\n",
       "      <td>61</td>\n",
       "    </tr>\n",
       "    <tr>\n",
       "      <th>2</th>\n",
       "      <td>小华</td>\n",
       "      <td>female</td>\n",
       "      <td>28</td>\n",
       "      <td>160</td>\n",
       "      <td>50</td>\n",
       "      <td>上海静安</td>\n",
       "      <td>74</td>\n",
       "    </tr>\n",
       "    <tr>\n",
       "      <th>3</th>\n",
       "      <td>小红</td>\n",
       "      <td>female</td>\n",
       "      <td>22</td>\n",
       "      <td>175</td>\n",
       "      <td>64</td>\n",
       "      <td>广州天河</td>\n",
       "      <td>59</td>\n",
       "    </tr>\n",
       "    <tr>\n",
       "      <th>4</th>\n",
       "      <td>小青</td>\n",
       "      <td>male</td>\n",
       "      <td>31</td>\n",
       "      <td>182</td>\n",
       "      <td>80</td>\n",
       "      <td>深圳南山</td>\n",
       "      <td>82</td>\n",
       "    </tr>\n",
       "    <tr>\n",
       "      <th>5</th>\n",
       "      <td>小兰</td>\n",
       "      <td>female</td>\n",
       "      <td>25</td>\n",
       "      <td>165</td>\n",
       "      <td>65</td>\n",
       "      <td>杭州西湖</td>\n",
       "      <td>98</td>\n",
       "    </tr>\n",
       "  </tbody>\n",
       "</table>\n",
       "</div>"
      ],
      "text/plain": [
       "  name     sex  age  height  weight address  grade\n",
       "1   小明    male   18     170      60    北京海淀     61\n",
       "2   小华  female   28     160      50    上海静安     74\n",
       "3   小红  female   22     175      64    广州天河     59\n",
       "4   小青    male   31     182      80    深圳南山     82\n",
       "5   小兰  female   25     165      65    杭州西湖     98"
      ]
     },
     "execution_count": 8,
     "metadata": {},
     "output_type": "execute_result"
    }
   ],
   "source": [
    "b.drop('aaa',axis=0)"
   ]
  },
  {
   "cell_type": "code",
   "execution_count": 9,
   "metadata": {},
   "outputs": [
    {
     "data": {
      "text/html": [
       "<div>\n",
       "<style scoped>\n",
       "    .dataframe tbody tr th:only-of-type {\n",
       "        vertical-align: middle;\n",
       "    }\n",
       "\n",
       "    .dataframe tbody tr th {\n",
       "        vertical-align: top;\n",
       "    }\n",
       "\n",
       "    .dataframe thead th {\n",
       "        text-align: right;\n",
       "    }\n",
       "</style>\n",
       "<table border=\"1\" class=\"dataframe\">\n",
       "  <thead>\n",
       "    <tr style=\"text-align: right;\">\n",
       "      <th></th>\n",
       "      <th>name</th>\n",
       "      <th>sex</th>\n",
       "      <th>age</th>\n",
       "      <th>height</th>\n",
       "      <th>weight</th>\n",
       "      <th>address</th>\n",
       "      <th>grade</th>\n",
       "    </tr>\n",
       "  </thead>\n",
       "  <tbody>\n",
       "    <tr>\n",
       "      <th>1</th>\n",
       "      <td>小明</td>\n",
       "      <td>male</td>\n",
       "      <td>18</td>\n",
       "      <td>170</td>\n",
       "      <td>60</td>\n",
       "      <td>北京海淀</td>\n",
       "      <td>61</td>\n",
       "    </tr>\n",
       "    <tr>\n",
       "      <th>2</th>\n",
       "      <td>小华</td>\n",
       "      <td>female</td>\n",
       "      <td>28</td>\n",
       "      <td>160</td>\n",
       "      <td>50</td>\n",
       "      <td>上海静安</td>\n",
       "      <td>74</td>\n",
       "    </tr>\n",
       "    <tr>\n",
       "      <th>3</th>\n",
       "      <td>小红</td>\n",
       "      <td>female</td>\n",
       "      <td>22</td>\n",
       "      <td>175</td>\n",
       "      <td>64</td>\n",
       "      <td>广州天河</td>\n",
       "      <td>59</td>\n",
       "    </tr>\n",
       "    <tr>\n",
       "      <th>4</th>\n",
       "      <td>小青</td>\n",
       "      <td>male</td>\n",
       "      <td>31</td>\n",
       "      <td>182</td>\n",
       "      <td>80</td>\n",
       "      <td>深圳南山</td>\n",
       "      <td>82</td>\n",
       "    </tr>\n",
       "    <tr>\n",
       "      <th>5</th>\n",
       "      <td>小兰</td>\n",
       "      <td>female</td>\n",
       "      <td>25</td>\n",
       "      <td>165</td>\n",
       "      <td>65</td>\n",
       "      <td>杭州西湖</td>\n",
       "      <td>98</td>\n",
       "    </tr>\n",
       "    <tr>\n",
       "      <th>aaa</th>\n",
       "      <td>小芳</td>\n",
       "      <td>female</td>\n",
       "      <td>24</td>\n",
       "      <td>164</td>\n",
       "      <td>52</td>\n",
       "      <td>美国加州</td>\n",
       "      <td>55</td>\n",
       "    </tr>\n",
       "  </tbody>\n",
       "</table>\n",
       "</div>"
      ],
      "text/plain": [
       "    name     sex  age  height  weight address  grade\n",
       "1     小明    male   18     170      60    北京海淀     61\n",
       "2     小华  female   28     160      50    上海静安     74\n",
       "3     小红  female   22     175      64    广州天河     59\n",
       "4     小青    male   31     182      80    深圳南山     82\n",
       "5     小兰  female   25     165      65    杭州西湖     98\n",
       "aaa   小芳  female   24     164      52    美国加州     55"
      ]
     },
     "execution_count": 9,
     "metadata": {},
     "output_type": "execute_result"
    }
   ],
   "source": [
    "b"
   ]
  },
  {
   "cell_type": "code",
   "execution_count": 10,
   "metadata": {},
   "outputs": [],
   "source": [
    "s = pd.Series([1,2,3,4,5])"
   ]
  },
  {
   "cell_type": "code",
   "execution_count": 11,
   "metadata": {},
   "outputs": [],
   "source": [
    "b.columns.name='信息'\n",
    "b.index.name='序号'"
   ]
  },
  {
   "cell_type": "code",
   "execution_count": 15,
   "metadata": {},
   "outputs": [],
   "source": [
    "import openpyxl,xlrd\n",
    "writer=pd.ExcelWriter('z.xlsx')\n",
    "b.to_excel(writer,'Sheet1',index=False,header=False)\n",
    "s.to_excel(writer,'Sheet2')\n",
    "writer.save()"
   ]
  },
  {
   "cell_type": "code",
   "execution_count": 42,
   "metadata": {},
   "outputs": [
    {
     "data": {
      "text/html": [
       "<div>\n",
       "<style scoped>\n",
       "    .dataframe tbody tr th:only-of-type {\n",
       "        vertical-align: middle;\n",
       "    }\n",
       "\n",
       "    .dataframe tbody tr th {\n",
       "        vertical-align: top;\n",
       "    }\n",
       "\n",
       "    .dataframe thead th {\n",
       "        text-align: right;\n",
       "    }\n",
       "</style>\n",
       "<table border=\"1\" class=\"dataframe\">\n",
       "  <thead>\n",
       "    <tr style=\"text-align: right;\">\n",
       "      <th></th>\n",
       "      <th>0</th>\n",
       "      <th>1</th>\n",
       "      <th>2</th>\n",
       "      <th>3</th>\n",
       "      <th>4</th>\n",
       "      <th>5</th>\n",
       "      <th>6</th>\n",
       "    </tr>\n",
       "  </thead>\n",
       "  <tbody>\n",
       "    <tr>\n",
       "      <th>0</th>\n",
       "      <td>小明</td>\n",
       "      <td>male</td>\n",
       "      <td>18</td>\n",
       "      <td>170</td>\n",
       "      <td>60</td>\n",
       "      <td>北京海淀</td>\n",
       "      <td>61</td>\n",
       "    </tr>\n",
       "    <tr>\n",
       "      <th>1</th>\n",
       "      <td>小华</td>\n",
       "      <td>female</td>\n",
       "      <td>28</td>\n",
       "      <td>160</td>\n",
       "      <td>50</td>\n",
       "      <td>上海静安</td>\n",
       "      <td>74</td>\n",
       "    </tr>\n",
       "    <tr>\n",
       "      <th>2</th>\n",
       "      <td>小红</td>\n",
       "      <td>female</td>\n",
       "      <td>22</td>\n",
       "      <td>175</td>\n",
       "      <td>64</td>\n",
       "      <td>广州天河</td>\n",
       "      <td>59</td>\n",
       "    </tr>\n",
       "    <tr>\n",
       "      <th>3</th>\n",
       "      <td>小青</td>\n",
       "      <td>male</td>\n",
       "      <td>31</td>\n",
       "      <td>182</td>\n",
       "      <td>80</td>\n",
       "      <td>深圳南山</td>\n",
       "      <td>82</td>\n",
       "    </tr>\n",
       "    <tr>\n",
       "      <th>4</th>\n",
       "      <td>小兰</td>\n",
       "      <td>female</td>\n",
       "      <td>25</td>\n",
       "      <td>165</td>\n",
       "      <td>65</td>\n",
       "      <td>杭州西湖</td>\n",
       "      <td>98</td>\n",
       "    </tr>\n",
       "    <tr>\n",
       "      <th>5</th>\n",
       "      <td>小芳</td>\n",
       "      <td>female</td>\n",
       "      <td>24</td>\n",
       "      <td>164</td>\n",
       "      <td>52</td>\n",
       "      <td>美国加州</td>\n",
       "      <td>55</td>\n",
       "    </tr>\n",
       "  </tbody>\n",
       "</table>\n",
       "</div>"
      ],
      "text/plain": [
       "    0       1   2    3   4     5   6\n",
       "0  小明    male  18  170  60  北京海淀  61\n",
       "1  小华  female  28  160  50  上海静安  74\n",
       "2  小红  female  22  175  64  广州天河  59\n",
       "3  小青    male  31  182  80  深圳南山  82\n",
       "4  小兰  female  25  165  65  杭州西湖  98\n",
       "5  小芳  female  24  164  52  美国加州  55"
      ]
     },
     "execution_count": 42,
     "metadata": {},
     "output_type": "execute_result"
    }
   ],
   "source": [
    "z = pd.read_excel('z.xlsx',None,header=None,index=[1])['Sheet1']\n",
    "z"
   ]
  },
  {
   "cell_type": "code",
   "execution_count": null,
   "metadata": {},
   "outputs": [],
   "source": []
  },
  {
   "cell_type": "code",
   "execution_count": null,
   "metadata": {},
   "outputs": [],
   "source": []
  },
  {
   "cell_type": "code",
   "execution_count": null,
   "metadata": {},
   "outputs": [],
   "source": []
  },
  {
   "cell_type": "code",
   "execution_count": null,
   "metadata": {},
   "outputs": [],
   "source": []
  },
  {
   "cell_type": "code",
   "execution_count": null,
   "metadata": {},
   "outputs": [],
   "source": []
  },
  {
   "cell_type": "code",
   "execution_count": null,
   "metadata": {},
   "outputs": [],
   "source": []
  },
  {
   "cell_type": "code",
   "execution_count": null,
   "metadata": {},
   "outputs": [],
   "source": []
  },
  {
   "cell_type": "code",
   "execution_count": null,
   "metadata": {},
   "outputs": [],
   "source": []
  },
  {
   "cell_type": "code",
   "execution_count": null,
   "metadata": {},
   "outputs": [],
   "source": []
  },
  {
   "cell_type": "code",
   "execution_count": null,
   "metadata": {},
   "outputs": [],
   "source": []
  }
 ],
 "metadata": {
  "kernelspec": {
   "display_name": "Python 3",
   "language": "python",
   "name": "python3"
  },
  "language_info": {
   "codemirror_mode": {
    "name": "ipython",
    "version": 3
   },
   "file_extension": ".py",
   "mimetype": "text/x-python",
   "name": "python",
   "nbconvert_exporter": "python",
   "pygments_lexer": "ipython3",
   "version": "3.7.6"
  }
 },
 "nbformat": 4,
 "nbformat_minor": 4
}
