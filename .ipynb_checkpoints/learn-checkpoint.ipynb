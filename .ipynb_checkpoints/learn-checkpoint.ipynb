{
 "cells": [
  {
   "cell_type": "code",
   "execution_count": 23,
   "metadata": {},
   "outputs": [],
   "source": [
    "import pandas as pd\n",
    "import numpy as np\n",
    "import matplotlib.pyplot as plt\n",
    "df = pd.read_csv('/home/lf/mysql_data/100.csv')"
   ]
  },
  {
   "cell_type": "code",
   "execution_count": 69,
   "metadata": {
    "scrolled": true
   },
   "outputs": [
    {
     "data": {
      "text/plain": [
       "job_place    object\n",
       "money         int64\n",
       "dtype: object"
      ]
     },
     "execution_count": 69,
     "metadata": {},
     "output_type": "execute_result"
    }
   ],
   "source": [
    "tmp[-(tmp['money']>=10000)].dtypes"
   ]
  },
  {
   "cell_type": "code",
   "execution_count": 70,
   "metadata": {},
   "outputs": [],
   "source": [
    "a_values=[['小明','male',18,170,60,'北京海淀',61],\n",
    "          ['小华','female',28,160,50,'上海静安',74],\n",
    "          ['小红','female',22,175,64,'广州天河',59],\n",
    "          ['小青','male',31,182,80,'深圳南山',82],\n",
    "          ['小兰','female',25,165,65,'杭州西湖',98]]"
   ]
  },
  {
   "cell_type": "code",
   "execution_count": 71,
   "metadata": {},
   "outputs": [],
   "source": [
    "a= pd.DataFrame(a_values,index=[1,2,3,4,5],columns=['name','sex','age','height','weight','address','grade'])"
   ]
  },
  {
   "cell_type": "code",
   "execution_count": 72,
   "metadata": {},
   "outputs": [],
   "source": [
    "b = a.copy()"
   ]
  },
  {
   "cell_type": "code",
   "execution_count": 73,
   "metadata": {},
   "outputs": [],
   "source": [
    "b.loc['aaa']=['小芳','female',24,164,52,'美国加州',55]"
   ]
  },
  {
   "cell_type": "code",
   "execution_count": 74,
   "metadata": {},
   "outputs": [
    {
     "data": {
      "text/html": [
       "<div>\n",
       "<style scoped>\n",
       "    .dataframe tbody tr th:only-of-type {\n",
       "        vertical-align: middle;\n",
       "    }\n",
       "\n",
       "    .dataframe tbody tr th {\n",
       "        vertical-align: top;\n",
       "    }\n",
       "\n",
       "    .dataframe thead th {\n",
       "        text-align: right;\n",
       "    }\n",
       "</style>\n",
       "<table border=\"1\" class=\"dataframe\">\n",
       "  <thead>\n",
       "    <tr style=\"text-align: right;\">\n",
       "      <th></th>\n",
       "      <th>name</th>\n",
       "      <th>sex</th>\n",
       "      <th>age</th>\n",
       "      <th>height</th>\n",
       "      <th>weight</th>\n",
       "      <th>address</th>\n",
       "      <th>grade</th>\n",
       "    </tr>\n",
       "  </thead>\n",
       "  <tbody>\n",
       "    <tr>\n",
       "      <th>1</th>\n",
       "      <td>小明</td>\n",
       "      <td>male</td>\n",
       "      <td>18</td>\n",
       "      <td>170</td>\n",
       "      <td>60</td>\n",
       "      <td>北京海淀</td>\n",
       "      <td>61</td>\n",
       "    </tr>\n",
       "    <tr>\n",
       "      <th>2</th>\n",
       "      <td>小华</td>\n",
       "      <td>female</td>\n",
       "      <td>28</td>\n",
       "      <td>160</td>\n",
       "      <td>50</td>\n",
       "      <td>上海静安</td>\n",
       "      <td>74</td>\n",
       "    </tr>\n",
       "    <tr>\n",
       "      <th>3</th>\n",
       "      <td>小红</td>\n",
       "      <td>female</td>\n",
       "      <td>22</td>\n",
       "      <td>175</td>\n",
       "      <td>64</td>\n",
       "      <td>广州天河</td>\n",
       "      <td>59</td>\n",
       "    </tr>\n",
       "    <tr>\n",
       "      <th>4</th>\n",
       "      <td>小青</td>\n",
       "      <td>male</td>\n",
       "      <td>31</td>\n",
       "      <td>182</td>\n",
       "      <td>80</td>\n",
       "      <td>深圳南山</td>\n",
       "      <td>82</td>\n",
       "    </tr>\n",
       "    <tr>\n",
       "      <th>5</th>\n",
       "      <td>小兰</td>\n",
       "      <td>female</td>\n",
       "      <td>25</td>\n",
       "      <td>165</td>\n",
       "      <td>65</td>\n",
       "      <td>杭州西湖</td>\n",
       "      <td>98</td>\n",
       "    </tr>\n",
       "  </tbody>\n",
       "</table>\n",
       "</div>"
      ],
      "text/plain": [
       "  name     sex  age  height  weight address  grade\n",
       "1   小明    male   18     170      60    北京海淀     61\n",
       "2   小华  female   28     160      50    上海静安     74\n",
       "3   小红  female   22     175      64    广州天河     59\n",
       "4   小青    male   31     182      80    深圳南山     82\n",
       "5   小兰  female   25     165      65    杭州西湖     98"
      ]
     },
     "execution_count": 74,
     "metadata": {},
     "output_type": "execute_result"
    }
   ],
   "source": [
    "b.drop('aaa',axis=0)"
   ]
  },
  {
   "cell_type": "code",
   "execution_count": 75,
   "metadata": {},
   "outputs": [
    {
     "data": {
      "text/html": [
       "<div>\n",
       "<style scoped>\n",
       "    .dataframe tbody tr th:only-of-type {\n",
       "        vertical-align: middle;\n",
       "    }\n",
       "\n",
       "    .dataframe tbody tr th {\n",
       "        vertical-align: top;\n",
       "    }\n",
       "\n",
       "    .dataframe thead th {\n",
       "        text-align: right;\n",
       "    }\n",
       "</style>\n",
       "<table border=\"1\" class=\"dataframe\">\n",
       "  <thead>\n",
       "    <tr style=\"text-align: right;\">\n",
       "      <th></th>\n",
       "      <th>name</th>\n",
       "      <th>sex</th>\n",
       "      <th>age</th>\n",
       "      <th>height</th>\n",
       "      <th>weight</th>\n",
       "      <th>address</th>\n",
       "      <th>grade</th>\n",
       "    </tr>\n",
       "  </thead>\n",
       "  <tbody>\n",
       "    <tr>\n",
       "      <th>1</th>\n",
       "      <td>小明</td>\n",
       "      <td>male</td>\n",
       "      <td>18</td>\n",
       "      <td>170</td>\n",
       "      <td>60</td>\n",
       "      <td>北京海淀</td>\n",
       "      <td>61</td>\n",
       "    </tr>\n",
       "    <tr>\n",
       "      <th>2</th>\n",
       "      <td>小华</td>\n",
       "      <td>female</td>\n",
       "      <td>28</td>\n",
       "      <td>160</td>\n",
       "      <td>50</td>\n",
       "      <td>上海静安</td>\n",
       "      <td>74</td>\n",
       "    </tr>\n",
       "    <tr>\n",
       "      <th>3</th>\n",
       "      <td>小红</td>\n",
       "      <td>female</td>\n",
       "      <td>22</td>\n",
       "      <td>175</td>\n",
       "      <td>64</td>\n",
       "      <td>广州天河</td>\n",
       "      <td>59</td>\n",
       "    </tr>\n",
       "    <tr>\n",
       "      <th>4</th>\n",
       "      <td>小青</td>\n",
       "      <td>male</td>\n",
       "      <td>31</td>\n",
       "      <td>182</td>\n",
       "      <td>80</td>\n",
       "      <td>深圳南山</td>\n",
       "      <td>82</td>\n",
       "    </tr>\n",
       "    <tr>\n",
       "      <th>5</th>\n",
       "      <td>小兰</td>\n",
       "      <td>female</td>\n",
       "      <td>25</td>\n",
       "      <td>165</td>\n",
       "      <td>65</td>\n",
       "      <td>杭州西湖</td>\n",
       "      <td>98</td>\n",
       "    </tr>\n",
       "    <tr>\n",
       "      <th>aaa</th>\n",
       "      <td>小芳</td>\n",
       "      <td>female</td>\n",
       "      <td>24</td>\n",
       "      <td>164</td>\n",
       "      <td>52</td>\n",
       "      <td>美国加州</td>\n",
       "      <td>55</td>\n",
       "    </tr>\n",
       "  </tbody>\n",
       "</table>\n",
       "</div>"
      ],
      "text/plain": [
       "    name     sex  age  height  weight address  grade\n",
       "1     小明    male   18     170      60    北京海淀     61\n",
       "2     小华  female   28     160      50    上海静安     74\n",
       "3     小红  female   22     175      64    广州天河     59\n",
       "4     小青    male   31     182      80    深圳南山     82\n",
       "5     小兰  female   25     165      65    杭州西湖     98\n",
       "aaa   小芳  female   24     164      52    美国加州     55"
      ]
     },
     "execution_count": 75,
     "metadata": {},
     "output_type": "execute_result"
    }
   ],
   "source": [
    "b"
   ]
  },
  {
   "cell_type": "code",
   "execution_count": 76,
   "metadata": {},
   "outputs": [],
   "source": [
    "s = pd.Series([1,2,3,4,5])"
   ]
  },
  {
   "cell_type": "code",
   "execution_count": 77,
   "metadata": {},
   "outputs": [],
   "source": [
    "b.columns.name='信息'\n",
    "b.index.name='序号'"
   ]
  },
  {
   "cell_type": "code",
   "execution_count": 78,
   "metadata": {},
   "outputs": [],
   "source": [
    "import openpyxl,xlrd\n",
    "writer=pd.ExcelWriter('z.xlsx')\n",
    "b.to_excel(writer,'Sheet1',index=False,header=False)\n",
    "s.to_excel(writer,'Sheet2')\n",
    "writer.save()"
   ]
  },
  {
   "cell_type": "code",
   "execution_count": 79,
   "metadata": {},
   "outputs": [
    {
     "data": {
      "text/html": [
       "<div>\n",
       "<style scoped>\n",
       "    .dataframe tbody tr th:only-of-type {\n",
       "        vertical-align: middle;\n",
       "    }\n",
       "\n",
       "    .dataframe tbody tr th {\n",
       "        vertical-align: top;\n",
       "    }\n",
       "\n",
       "    .dataframe thead th {\n",
       "        text-align: right;\n",
       "    }\n",
       "</style>\n",
       "<table border=\"1\" class=\"dataframe\">\n",
       "  <thead>\n",
       "    <tr style=\"text-align: right;\">\n",
       "      <th></th>\n",
       "      <th>0</th>\n",
       "      <th>1</th>\n",
       "      <th>2</th>\n",
       "      <th>3</th>\n",
       "      <th>4</th>\n",
       "      <th>5</th>\n",
       "      <th>6</th>\n",
       "    </tr>\n",
       "  </thead>\n",
       "  <tbody>\n",
       "    <tr>\n",
       "      <th>0</th>\n",
       "      <td>小明</td>\n",
       "      <td>male</td>\n",
       "      <td>18</td>\n",
       "      <td>170</td>\n",
       "      <td>60</td>\n",
       "      <td>北京海淀</td>\n",
       "      <td>61</td>\n",
       "    </tr>\n",
       "    <tr>\n",
       "      <th>1</th>\n",
       "      <td>小华</td>\n",
       "      <td>female</td>\n",
       "      <td>28</td>\n",
       "      <td>160</td>\n",
       "      <td>50</td>\n",
       "      <td>上海静安</td>\n",
       "      <td>74</td>\n",
       "    </tr>\n",
       "    <tr>\n",
       "      <th>2</th>\n",
       "      <td>小红</td>\n",
       "      <td>female</td>\n",
       "      <td>22</td>\n",
       "      <td>175</td>\n",
       "      <td>64</td>\n",
       "      <td>广州天河</td>\n",
       "      <td>59</td>\n",
       "    </tr>\n",
       "    <tr>\n",
       "      <th>3</th>\n",
       "      <td>小青</td>\n",
       "      <td>male</td>\n",
       "      <td>31</td>\n",
       "      <td>182</td>\n",
       "      <td>80</td>\n",
       "      <td>深圳南山</td>\n",
       "      <td>82</td>\n",
       "    </tr>\n",
       "    <tr>\n",
       "      <th>4</th>\n",
       "      <td>小兰</td>\n",
       "      <td>female</td>\n",
       "      <td>25</td>\n",
       "      <td>165</td>\n",
       "      <td>65</td>\n",
       "      <td>杭州西湖</td>\n",
       "      <td>98</td>\n",
       "    </tr>\n",
       "    <tr>\n",
       "      <th>5</th>\n",
       "      <td>小芳</td>\n",
       "      <td>female</td>\n",
       "      <td>24</td>\n",
       "      <td>164</td>\n",
       "      <td>52</td>\n",
       "      <td>美国加州</td>\n",
       "      <td>55</td>\n",
       "    </tr>\n",
       "  </tbody>\n",
       "</table>\n",
       "</div>"
      ],
      "text/plain": [
       "    0       1   2    3   4     5   6\n",
       "0  小明    male  18  170  60  北京海淀  61\n",
       "1  小华  female  28  160  50  上海静安  74\n",
       "2  小红  female  22  175  64  广州天河  59\n",
       "3  小青    male  31  182  80  深圳南山  82\n",
       "4  小兰  female  25  165  65  杭州西湖  98\n",
       "5  小芳  female  24  164  52  美国加州  55"
      ]
     },
     "execution_count": 79,
     "metadata": {},
     "output_type": "execute_result"
    }
   ],
   "source": [
    "z = pd.read_excel('z.xlsx',None,header=None,index=[1])['Sheet1']\n",
    "z"
   ]
  },
  {
   "cell_type": "code",
   "execution_count": 80,
   "metadata": {},
   "outputs": [
    {
     "data": {
      "text/html": [
       "<div>\n",
       "<style scoped>\n",
       "    .dataframe tbody tr th:only-of-type {\n",
       "        vertical-align: middle;\n",
       "    }\n",
       "\n",
       "    .dataframe tbody tr th {\n",
       "        vertical-align: top;\n",
       "    }\n",
       "\n",
       "    .dataframe thead th {\n",
       "        text-align: right;\n",
       "    }\n",
       "</style>\n",
       "<table border=\"1\" class=\"dataframe\">\n",
       "  <thead>\n",
       "    <tr style=\"text-align: right;\">\n",
       "      <th></th>\n",
       "      <th>0</th>\n",
       "      <th>1</th>\n",
       "      <th>2</th>\n",
       "      <th>3</th>\n",
       "      <th>4</th>\n",
       "      <th>5</th>\n",
       "      <th>6</th>\n",
       "    </tr>\n",
       "  </thead>\n",
       "  <tbody>\n",
       "    <tr>\n",
       "      <th>5</th>\n",
       "      <td>小芳</td>\n",
       "      <td>female</td>\n",
       "      <td>24</td>\n",
       "      <td>164</td>\n",
       "      <td>52</td>\n",
       "      <td>美国加州</td>\n",
       "      <td>55</td>\n",
       "    </tr>\n",
       "    <tr>\n",
       "      <th>3</th>\n",
       "      <td>小青</td>\n",
       "      <td>male</td>\n",
       "      <td>31</td>\n",
       "      <td>182</td>\n",
       "      <td>80</td>\n",
       "      <td>深圳南山</td>\n",
       "      <td>82</td>\n",
       "    </tr>\n",
       "    <tr>\n",
       "      <th>4</th>\n",
       "      <td>小兰</td>\n",
       "      <td>female</td>\n",
       "      <td>25</td>\n",
       "      <td>165</td>\n",
       "      <td>65</td>\n",
       "      <td>杭州西湖</td>\n",
       "      <td>98</td>\n",
       "    </tr>\n",
       "  </tbody>\n",
       "</table>\n",
       "</div>"
      ],
      "text/plain": [
       "    0       1   2    3   4     5   6\n",
       "5  小芳  female  24  164  52  美国加州  55\n",
       "3  小青    male  31  182  80  深圳南山  82\n",
       "4  小兰  female  25  165  65  杭州西湖  98"
      ]
     },
     "execution_count": 80,
     "metadata": {},
     "output_type": "execute_result"
    }
   ],
   "source": [
    "#随机取样\n",
    "z1 = z.reindex(np.random.permutation(z.index))\n",
    "z1.head(3)"
   ]
  },
  {
   "cell_type": "code",
   "execution_count": 81,
   "metadata": {},
   "outputs": [
    {
     "data": {
      "text/html": [
       "<div>\n",
       "<style scoped>\n",
       "    .dataframe tbody tr th:only-of-type {\n",
       "        vertical-align: middle;\n",
       "    }\n",
       "\n",
       "    .dataframe tbody tr th {\n",
       "        vertical-align: top;\n",
       "    }\n",
       "\n",
       "    .dataframe thead th {\n",
       "        text-align: right;\n",
       "    }\n",
       "</style>\n",
       "<table border=\"1\" class=\"dataframe\">\n",
       "  <thead>\n",
       "    <tr style=\"text-align: right;\">\n",
       "      <th></th>\n",
       "      <th>0</th>\n",
       "      <th>1</th>\n",
       "      <th>2</th>\n",
       "      <th>3</th>\n",
       "      <th>4</th>\n",
       "      <th>5</th>\n",
       "      <th>6</th>\n",
       "    </tr>\n",
       "  </thead>\n",
       "  <tbody>\n",
       "    <tr>\n",
       "      <th>3</th>\n",
       "      <td>小青</td>\n",
       "      <td>male</td>\n",
       "      <td>31</td>\n",
       "      <td>182</td>\n",
       "      <td>80</td>\n",
       "      <td>深圳南山</td>\n",
       "      <td>82</td>\n",
       "    </tr>\n",
       "    <tr>\n",
       "      <th>4</th>\n",
       "      <td>小兰</td>\n",
       "      <td>female</td>\n",
       "      <td>25</td>\n",
       "      <td>165</td>\n",
       "      <td>65</td>\n",
       "      <td>杭州西湖</td>\n",
       "      <td>98</td>\n",
       "    </tr>\n",
       "    <tr>\n",
       "      <th>5</th>\n",
       "      <td>小芳</td>\n",
       "      <td>female</td>\n",
       "      <td>24</td>\n",
       "      <td>164</td>\n",
       "      <td>52</td>\n",
       "      <td>美国加州</td>\n",
       "      <td>55</td>\n",
       "    </tr>\n",
       "  </tbody>\n",
       "</table>\n",
       "</div>"
      ],
      "text/plain": [
       "    0       1   2    3   4     5   6\n",
       "3  小青    male  31  182  80  深圳南山  82\n",
       "4  小兰  female  25  165  65  杭州西湖  98\n",
       "5  小芳  female  24  164  52  美国加州  55"
      ]
     },
     "execution_count": 81,
     "metadata": {},
     "output_type": "execute_result"
    }
   ],
   "source": [
    "z.tail(3)"
   ]
  },
  {
   "cell_type": "code",
   "execution_count": 82,
   "metadata": {},
   "outputs": [
    {
     "data": {
      "text/html": [
       "<div>\n",
       "<style scoped>\n",
       "    .dataframe tbody tr th:only-of-type {\n",
       "        vertical-align: middle;\n",
       "    }\n",
       "\n",
       "    .dataframe tbody tr th {\n",
       "        vertical-align: top;\n",
       "    }\n",
       "\n",
       "    .dataframe thead th {\n",
       "        text-align: right;\n",
       "    }\n",
       "</style>\n",
       "<table border=\"1\" class=\"dataframe\">\n",
       "  <thead>\n",
       "    <tr style=\"text-align: right;\">\n",
       "      <th></th>\n",
       "      <th>0</th>\n",
       "      <th>1</th>\n",
       "      <th>2</th>\n",
       "      <th>3</th>\n",
       "      <th>4</th>\n",
       "      <th>5</th>\n",
       "      <th>6</th>\n",
       "    </tr>\n",
       "  </thead>\n",
       "  <tbody>\n",
       "    <tr>\n",
       "      <th>0</th>\n",
       "      <td>小明</td>\n",
       "      <td>male</td>\n",
       "      <td>18</td>\n",
       "      <td>170</td>\n",
       "      <td>60</td>\n",
       "      <td>北京海淀</td>\n",
       "      <td>61</td>\n",
       "    </tr>\n",
       "    <tr>\n",
       "      <th>1</th>\n",
       "      <td>小华</td>\n",
       "      <td>female</td>\n",
       "      <td>28</td>\n",
       "      <td>160</td>\n",
       "      <td>50</td>\n",
       "      <td>上海静安</td>\n",
       "      <td>74</td>\n",
       "    </tr>\n",
       "    <tr>\n",
       "      <th>2</th>\n",
       "      <td>小红</td>\n",
       "      <td>female</td>\n",
       "      <td>22</td>\n",
       "      <td>175</td>\n",
       "      <td>64</td>\n",
       "      <td>广州天河</td>\n",
       "      <td>59</td>\n",
       "    </tr>\n",
       "    <tr>\n",
       "      <th>3</th>\n",
       "      <td>小青</td>\n",
       "      <td>male</td>\n",
       "      <td>31</td>\n",
       "      <td>182</td>\n",
       "      <td>80</td>\n",
       "      <td>深圳南山</td>\n",
       "      <td>82</td>\n",
       "    </tr>\n",
       "    <tr>\n",
       "      <th>4</th>\n",
       "      <td>小兰</td>\n",
       "      <td>female</td>\n",
       "      <td>25</td>\n",
       "      <td>165</td>\n",
       "      <td>65</td>\n",
       "      <td>杭州西湖</td>\n",
       "      <td>98</td>\n",
       "    </tr>\n",
       "    <tr>\n",
       "      <th>5</th>\n",
       "      <td>小芳</td>\n",
       "      <td>female</td>\n",
       "      <td>24</td>\n",
       "      <td>164</td>\n",
       "      <td>52</td>\n",
       "      <td>美国加州</td>\n",
       "      <td>55</td>\n",
       "    </tr>\n",
       "  </tbody>\n",
       "</table>\n",
       "</div>"
      ],
      "text/plain": [
       "    0       1   2    3   4     5   6\n",
       "0  小明    male  18  170  60  北京海淀  61\n",
       "1  小华  female  28  160  50  上海静安  74\n",
       "2  小红  female  22  175  64  广州天河  59\n",
       "3  小青    male  31  182  80  深圳南山  82\n",
       "4  小兰  female  25  165  65  杭州西湖  98\n",
       "5  小芳  female  24  164  52  美国加州  55"
      ]
     },
     "execution_count": 82,
     "metadata": {},
     "output_type": "execute_result"
    }
   ],
   "source": [
    "z"
   ]
  },
  {
   "cell_type": "code",
   "execution_count": 83,
   "metadata": {},
   "outputs": [
    {
     "data": {
      "text/html": [
       "<div>\n",
       "<style scoped>\n",
       "    .dataframe tbody tr th:only-of-type {\n",
       "        vertical-align: middle;\n",
       "    }\n",
       "\n",
       "    .dataframe tbody tr th {\n",
       "        vertical-align: top;\n",
       "    }\n",
       "\n",
       "    .dataframe thead th {\n",
       "        text-align: right;\n",
       "    }\n",
       "</style>\n",
       "<table border=\"1\" class=\"dataframe\">\n",
       "  <thead>\n",
       "    <tr style=\"text-align: right;\">\n",
       "      <th></th>\n",
       "      <th>0</th>\n",
       "      <th>1</th>\n",
       "      <th>2</th>\n",
       "      <th>3</th>\n",
       "      <th>4</th>\n",
       "      <th>5</th>\n",
       "    </tr>\n",
       "  </thead>\n",
       "  <tbody>\n",
       "    <tr>\n",
       "      <th>0</th>\n",
       "      <td>小明</td>\n",
       "      <td>小华</td>\n",
       "      <td>小红</td>\n",
       "      <td>小青</td>\n",
       "      <td>小兰</td>\n",
       "      <td>小芳</td>\n",
       "    </tr>\n",
       "    <tr>\n",
       "      <th>1</th>\n",
       "      <td>male</td>\n",
       "      <td>female</td>\n",
       "      <td>female</td>\n",
       "      <td>male</td>\n",
       "      <td>female</td>\n",
       "      <td>female</td>\n",
       "    </tr>\n",
       "    <tr>\n",
       "      <th>2</th>\n",
       "      <td>18</td>\n",
       "      <td>28</td>\n",
       "      <td>22</td>\n",
       "      <td>31</td>\n",
       "      <td>25</td>\n",
       "      <td>24</td>\n",
       "    </tr>\n",
       "    <tr>\n",
       "      <th>3</th>\n",
       "      <td>170</td>\n",
       "      <td>160</td>\n",
       "      <td>175</td>\n",
       "      <td>182</td>\n",
       "      <td>165</td>\n",
       "      <td>164</td>\n",
       "    </tr>\n",
       "    <tr>\n",
       "      <th>4</th>\n",
       "      <td>60</td>\n",
       "      <td>50</td>\n",
       "      <td>64</td>\n",
       "      <td>80</td>\n",
       "      <td>65</td>\n",
       "      <td>52</td>\n",
       "    </tr>\n",
       "    <tr>\n",
       "      <th>5</th>\n",
       "      <td>北京海淀</td>\n",
       "      <td>上海静安</td>\n",
       "      <td>广州天河</td>\n",
       "      <td>深圳南山</td>\n",
       "      <td>杭州西湖</td>\n",
       "      <td>美国加州</td>\n",
       "    </tr>\n",
       "    <tr>\n",
       "      <th>6</th>\n",
       "      <td>61</td>\n",
       "      <td>74</td>\n",
       "      <td>59</td>\n",
       "      <td>82</td>\n",
       "      <td>98</td>\n",
       "      <td>55</td>\n",
       "    </tr>\n",
       "  </tbody>\n",
       "</table>\n",
       "</div>"
      ],
      "text/plain": [
       "      0       1       2     3       4       5\n",
       "0    小明      小华      小红    小青      小兰      小芳\n",
       "1  male  female  female  male  female  female\n",
       "2    18      28      22    31      25      24\n",
       "3   170     160     175   182     165     164\n",
       "4    60      50      64    80      65      52\n",
       "5  北京海淀    上海静安    广州天河  深圳南山    杭州西湖    美国加州\n",
       "6    61      74      59    82      98      55"
      ]
     },
     "execution_count": 83,
     "metadata": {},
     "output_type": "execute_result"
    }
   ],
   "source": [
    "z.T"
   ]
  },
  {
   "cell_type": "code",
   "execution_count": 84,
   "metadata": {},
   "outputs": [
    {
     "data": {
      "text/html": [
       "<div>\n",
       "<style scoped>\n",
       "    .dataframe tbody tr th:only-of-type {\n",
       "        vertical-align: middle;\n",
       "    }\n",
       "\n",
       "    .dataframe tbody tr th {\n",
       "        vertical-align: top;\n",
       "    }\n",
       "\n",
       "    .dataframe thead th {\n",
       "        text-align: right;\n",
       "    }\n",
       "</style>\n",
       "<table border=\"1\" class=\"dataframe\">\n",
       "  <thead>\n",
       "    <tr style=\"text-align: right;\">\n",
       "      <th></th>\n",
       "      <th>0</th>\n",
       "      <th>1</th>\n",
       "      <th>2</th>\n",
       "      <th>3</th>\n",
       "      <th>4</th>\n",
       "      <th>5</th>\n",
       "      <th>6</th>\n",
       "    </tr>\n",
       "  </thead>\n",
       "  <tbody>\n",
       "    <tr>\n",
       "      <th>0</th>\n",
       "      <td>小明</td>\n",
       "      <td>male</td>\n",
       "      <td>18</td>\n",
       "      <td>170</td>\n",
       "      <td>60</td>\n",
       "      <td>北京海淀</td>\n",
       "      <td>61</td>\n",
       "    </tr>\n",
       "    <tr>\n",
       "      <th>1</th>\n",
       "      <td>小华</td>\n",
       "      <td>female</td>\n",
       "      <td>28</td>\n",
       "      <td>160</td>\n",
       "      <td>50</td>\n",
       "      <td>上海静安</td>\n",
       "      <td>74</td>\n",
       "    </tr>\n",
       "    <tr>\n",
       "      <th>2</th>\n",
       "      <td>小红</td>\n",
       "      <td>female</td>\n",
       "      <td>22</td>\n",
       "      <td>175</td>\n",
       "      <td>64</td>\n",
       "      <td>广州天河</td>\n",
       "      <td>59</td>\n",
       "    </tr>\n",
       "    <tr>\n",
       "      <th>3</th>\n",
       "      <td>小青</td>\n",
       "      <td>male</td>\n",
       "      <td>31</td>\n",
       "      <td>182</td>\n",
       "      <td>80</td>\n",
       "      <td>深圳南山</td>\n",
       "      <td>82</td>\n",
       "    </tr>\n",
       "    <tr>\n",
       "      <th>4</th>\n",
       "      <td>小兰</td>\n",
       "      <td>female</td>\n",
       "      <td>25</td>\n",
       "      <td>165</td>\n",
       "      <td>65</td>\n",
       "      <td>杭州西湖</td>\n",
       "      <td>98</td>\n",
       "    </tr>\n",
       "    <tr>\n",
       "      <th>5</th>\n",
       "      <td>小芳</td>\n",
       "      <td>female</td>\n",
       "      <td>24</td>\n",
       "      <td>164</td>\n",
       "      <td>52</td>\n",
       "      <td>美国加州</td>\n",
       "      <td>55</td>\n",
       "    </tr>\n",
       "  </tbody>\n",
       "</table>\n",
       "</div>"
      ],
      "text/plain": [
       "    0       1   2    3   4     5   6\n",
       "0  小明    male  18  170  60  北京海淀  61\n",
       "1  小华  female  28  160  50  上海静安  74\n",
       "2  小红  female  22  175  64  广州天河  59\n",
       "3  小青    male  31  182  80  深圳南山  82\n",
       "4  小兰  female  25  165  65  杭州西湖  98\n",
       "5  小芳  female  24  164  52  美国加州  55"
      ]
     },
     "execution_count": 84,
     "metadata": {},
     "output_type": "execute_result"
    }
   ],
   "source": [
    "z"
   ]
  },
  {
   "cell_type": "code",
   "execution_count": 85,
   "metadata": {},
   "outputs": [],
   "source": [
    "d = pd.date_range('20200310',periods=10)"
   ]
  },
  {
   "cell_type": "code",
   "execution_count": 86,
   "metadata": {},
   "outputs": [],
   "source": [
    "d1 = pd.Series(np.arange(10),index=d)"
   ]
  },
  {
   "cell_type": "code",
   "execution_count": 87,
   "metadata": {},
   "outputs": [
    {
     "data": {
      "text/plain": [
       "2020-03-19    9\n",
       "2020-03-18    8\n",
       "2020-03-17    7\n",
       "2020-03-16    6\n",
       "2020-03-15    5\n",
       "2020-03-14    4\n",
       "2020-03-13    3\n",
       "2020-03-12    2\n",
       "2020-03-11    1\n",
       "2020-03-10    0\n",
       "Freq: -1D, dtype: int64"
      ]
     },
     "execution_count": 87,
     "metadata": {},
     "output_type": "execute_result"
    }
   ],
   "source": [
    "d1.sort_index(axis=0,ascending=False)"
   ]
  },
  {
   "cell_type": "code",
   "execution_count": 88,
   "metadata": {},
   "outputs": [
    {
     "data": {
      "text/plain": [
       "2020-03-10    0\n",
       "2020-03-11    1\n",
       "2020-03-12    2\n",
       "2020-03-13    3\n",
       "2020-03-14    4\n",
       "2020-03-15    5\n",
       "2020-03-16    6\n",
       "2020-03-17    7\n",
       "2020-03-18    8\n",
       "2020-03-19    9\n",
       "Freq: D, dtype: int64"
      ]
     },
     "execution_count": 88,
     "metadata": {},
     "output_type": "execute_result"
    }
   ],
   "source": [
    "d1"
   ]
  },
  {
   "cell_type": "code",
   "execution_count": 89,
   "metadata": {
    "scrolled": true
   },
   "outputs": [
    {
     "data": {
      "text/html": [
       "<div>\n",
       "<style scoped>\n",
       "    .dataframe tbody tr th:only-of-type {\n",
       "        vertical-align: middle;\n",
       "    }\n",
       "\n",
       "    .dataframe tbody tr th {\n",
       "        vertical-align: top;\n",
       "    }\n",
       "\n",
       "    .dataframe thead th {\n",
       "        text-align: right;\n",
       "    }\n",
       "</style>\n",
       "<table border=\"1\" class=\"dataframe\">\n",
       "  <thead>\n",
       "    <tr style=\"text-align: right;\">\n",
       "      <th></th>\n",
       "      <th>0</th>\n",
       "      <th>1</th>\n",
       "      <th>2</th>\n",
       "      <th>3</th>\n",
       "      <th>4</th>\n",
       "      <th>5</th>\n",
       "      <th>6</th>\n",
       "    </tr>\n",
       "  </thead>\n",
       "  <tbody>\n",
       "    <tr>\n",
       "      <th>0</th>\n",
       "      <td>小明</td>\n",
       "      <td>male</td>\n",
       "      <td>18</td>\n",
       "      <td>170</td>\n",
       "      <td>60</td>\n",
       "      <td>北京海淀</td>\n",
       "      <td>61</td>\n",
       "    </tr>\n",
       "    <tr>\n",
       "      <th>1</th>\n",
       "      <td>小华</td>\n",
       "      <td>female</td>\n",
       "      <td>28</td>\n",
       "      <td>160</td>\n",
       "      <td>50</td>\n",
       "      <td>上海静安</td>\n",
       "      <td>74</td>\n",
       "    </tr>\n",
       "    <tr>\n",
       "      <th>2</th>\n",
       "      <td>小红</td>\n",
       "      <td>female</td>\n",
       "      <td>22</td>\n",
       "      <td>175</td>\n",
       "      <td>64</td>\n",
       "      <td>广州天河</td>\n",
       "      <td>59</td>\n",
       "    </tr>\n",
       "    <tr>\n",
       "      <th>3</th>\n",
       "      <td>小青</td>\n",
       "      <td>male</td>\n",
       "      <td>31</td>\n",
       "      <td>182</td>\n",
       "      <td>80</td>\n",
       "      <td>深圳南山</td>\n",
       "      <td>82</td>\n",
       "    </tr>\n",
       "    <tr>\n",
       "      <th>4</th>\n",
       "      <td>小兰</td>\n",
       "      <td>female</td>\n",
       "      <td>25</td>\n",
       "      <td>165</td>\n",
       "      <td>65</td>\n",
       "      <td>杭州西湖</td>\n",
       "      <td>98</td>\n",
       "    </tr>\n",
       "    <tr>\n",
       "      <th>5</th>\n",
       "      <td>小芳</td>\n",
       "      <td>female</td>\n",
       "      <td>24</td>\n",
       "      <td>164</td>\n",
       "      <td>52</td>\n",
       "      <td>美国加州</td>\n",
       "      <td>55</td>\n",
       "    </tr>\n",
       "  </tbody>\n",
       "</table>\n",
       "</div>"
      ],
      "text/plain": [
       "    0       1   2    3   4     5   6\n",
       "0  小明    male  18  170  60  北京海淀  61\n",
       "1  小华  female  28  160  50  上海静安  74\n",
       "2  小红  female  22  175  64  广州天河  59\n",
       "3  小青    male  31  182  80  深圳南山  82\n",
       "4  小兰  female  25  165  65  杭州西湖  98\n",
       "5  小芳  female  24  164  52  美国加州  55"
      ]
     },
     "execution_count": 89,
     "metadata": {},
     "output_type": "execute_result"
    }
   ],
   "source": [
    "z"
   ]
  },
  {
   "cell_type": "code",
   "execution_count": 90,
   "metadata": {},
   "outputs": [],
   "source": [
    "z.columns=['姓名','性别','年龄','身高','体重','居住地址','分数']"
   ]
  },
  {
   "cell_type": "code",
   "execution_count": 91,
   "metadata": {},
   "outputs": [
    {
     "data": {
      "text/html": [
       "<div>\n",
       "<style scoped>\n",
       "    .dataframe tbody tr th:only-of-type {\n",
       "        vertical-align: middle;\n",
       "    }\n",
       "\n",
       "    .dataframe tbody tr th {\n",
       "        vertical-align: top;\n",
       "    }\n",
       "\n",
       "    .dataframe thead th {\n",
       "        text-align: right;\n",
       "    }\n",
       "</style>\n",
       "<table border=\"1\" class=\"dataframe\">\n",
       "  <thead>\n",
       "    <tr style=\"text-align: right;\">\n",
       "      <th></th>\n",
       "      <th>姓名</th>\n",
       "      <th>性别</th>\n",
       "      <th>年龄</th>\n",
       "      <th>身高</th>\n",
       "      <th>体重</th>\n",
       "      <th>居住地址</th>\n",
       "      <th>分数</th>\n",
       "    </tr>\n",
       "  </thead>\n",
       "  <tbody>\n",
       "    <tr>\n",
       "      <th>0</th>\n",
       "      <td>小明</td>\n",
       "      <td>male</td>\n",
       "      <td>18</td>\n",
       "      <td>170</td>\n",
       "      <td>60</td>\n",
       "      <td>北京海淀</td>\n",
       "      <td>61</td>\n",
       "    </tr>\n",
       "    <tr>\n",
       "      <th>1</th>\n",
       "      <td>小华</td>\n",
       "      <td>female</td>\n",
       "      <td>28</td>\n",
       "      <td>160</td>\n",
       "      <td>50</td>\n",
       "      <td>上海静安</td>\n",
       "      <td>74</td>\n",
       "    </tr>\n",
       "    <tr>\n",
       "      <th>2</th>\n",
       "      <td>小红</td>\n",
       "      <td>female</td>\n",
       "      <td>22</td>\n",
       "      <td>175</td>\n",
       "      <td>64</td>\n",
       "      <td>广州天河</td>\n",
       "      <td>59</td>\n",
       "    </tr>\n",
       "    <tr>\n",
       "      <th>3</th>\n",
       "      <td>小青</td>\n",
       "      <td>male</td>\n",
       "      <td>31</td>\n",
       "      <td>182</td>\n",
       "      <td>80</td>\n",
       "      <td>深圳南山</td>\n",
       "      <td>82</td>\n",
       "    </tr>\n",
       "    <tr>\n",
       "      <th>4</th>\n",
       "      <td>小兰</td>\n",
       "      <td>female</td>\n",
       "      <td>25</td>\n",
       "      <td>165</td>\n",
       "      <td>65</td>\n",
       "      <td>杭州西湖</td>\n",
       "      <td>98</td>\n",
       "    </tr>\n",
       "    <tr>\n",
       "      <th>5</th>\n",
       "      <td>小芳</td>\n",
       "      <td>female</td>\n",
       "      <td>24</td>\n",
       "      <td>164</td>\n",
       "      <td>52</td>\n",
       "      <td>美国加州</td>\n",
       "      <td>55</td>\n",
       "    </tr>\n",
       "  </tbody>\n",
       "</table>\n",
       "</div>"
      ],
      "text/plain": [
       "   姓名      性别  年龄   身高  体重  居住地址  分数\n",
       "0  小明    male  18  170  60  北京海淀  61\n",
       "1  小华  female  28  160  50  上海静安  74\n",
       "2  小红  female  22  175  64  广州天河  59\n",
       "3  小青    male  31  182  80  深圳南山  82\n",
       "4  小兰  female  25  165  65  杭州西湖  98\n",
       "5  小芳  female  24  164  52  美国加州  55"
      ]
     },
     "execution_count": 91,
     "metadata": {},
     "output_type": "execute_result"
    }
   ],
   "source": [
    "z"
   ]
  },
  {
   "cell_type": "code",
   "execution_count": 92,
   "metadata": {},
   "outputs": [
    {
     "data": {
      "text/html": [
       "<div>\n",
       "<style scoped>\n",
       "    .dataframe tbody tr th:only-of-type {\n",
       "        vertical-align: middle;\n",
       "    }\n",
       "\n",
       "    .dataframe tbody tr th {\n",
       "        vertical-align: top;\n",
       "    }\n",
       "\n",
       "    .dataframe thead th {\n",
       "        text-align: right;\n",
       "    }\n",
       "</style>\n",
       "<table border=\"1\" class=\"dataframe\">\n",
       "  <thead>\n",
       "    <tr style=\"text-align: right;\">\n",
       "      <th></th>\n",
       "      <th>姓名</th>\n",
       "      <th>性别</th>\n",
       "      <th>年龄</th>\n",
       "      <th>身高</th>\n",
       "      <th>体重</th>\n",
       "      <th>居住地址</th>\n",
       "      <th>分数</th>\n",
       "    </tr>\n",
       "  </thead>\n",
       "  <tbody>\n",
       "    <tr>\n",
       "      <th>3</th>\n",
       "      <td>小青</td>\n",
       "      <td>male</td>\n",
       "      <td>31</td>\n",
       "      <td>182</td>\n",
       "      <td>80</td>\n",
       "      <td>深圳南山</td>\n",
       "      <td>82</td>\n",
       "    </tr>\n",
       "    <tr>\n",
       "      <th>1</th>\n",
       "      <td>小华</td>\n",
       "      <td>female</td>\n",
       "      <td>28</td>\n",
       "      <td>160</td>\n",
       "      <td>50</td>\n",
       "      <td>上海静安</td>\n",
       "      <td>74</td>\n",
       "    </tr>\n",
       "    <tr>\n",
       "      <th>4</th>\n",
       "      <td>小兰</td>\n",
       "      <td>female</td>\n",
       "      <td>25</td>\n",
       "      <td>165</td>\n",
       "      <td>65</td>\n",
       "      <td>杭州西湖</td>\n",
       "      <td>98</td>\n",
       "    </tr>\n",
       "    <tr>\n",
       "      <th>5</th>\n",
       "      <td>小芳</td>\n",
       "      <td>female</td>\n",
       "      <td>24</td>\n",
       "      <td>164</td>\n",
       "      <td>52</td>\n",
       "      <td>美国加州</td>\n",
       "      <td>55</td>\n",
       "    </tr>\n",
       "    <tr>\n",
       "      <th>2</th>\n",
       "      <td>小红</td>\n",
       "      <td>female</td>\n",
       "      <td>22</td>\n",
       "      <td>175</td>\n",
       "      <td>64</td>\n",
       "      <td>广州天河</td>\n",
       "      <td>59</td>\n",
       "    </tr>\n",
       "    <tr>\n",
       "      <th>0</th>\n",
       "      <td>小明</td>\n",
       "      <td>male</td>\n",
       "      <td>18</td>\n",
       "      <td>170</td>\n",
       "      <td>60</td>\n",
       "      <td>北京海淀</td>\n",
       "      <td>61</td>\n",
       "    </tr>\n",
       "  </tbody>\n",
       "</table>\n",
       "</div>"
      ],
      "text/plain": [
       "   姓名      性别  年龄   身高  体重  居住地址  分数\n",
       "3  小青    male  31  182  80  深圳南山  82\n",
       "1  小华  female  28  160  50  上海静安  74\n",
       "4  小兰  female  25  165  65  杭州西湖  98\n",
       "5  小芳  female  24  164  52  美国加州  55\n",
       "2  小红  female  22  175  64  广州天河  59\n",
       "0  小明    male  18  170  60  北京海淀  61"
      ]
     },
     "execution_count": 92,
     "metadata": {},
     "output_type": "execute_result"
    }
   ],
   "source": [
    "z.sort_values(by='年龄',ascending=False)"
   ]
  },
  {
   "cell_type": "code",
   "execution_count": 93,
   "metadata": {},
   "outputs": [
    {
     "data": {
      "text/html": [
       "<div>\n",
       "<style scoped>\n",
       "    .dataframe tbody tr th:only-of-type {\n",
       "        vertical-align: middle;\n",
       "    }\n",
       "\n",
       "    .dataframe tbody tr th {\n",
       "        vertical-align: top;\n",
       "    }\n",
       "\n",
       "    .dataframe thead th {\n",
       "        text-align: right;\n",
       "    }\n",
       "</style>\n",
       "<table border=\"1\" class=\"dataframe\">\n",
       "  <thead>\n",
       "    <tr style=\"text-align: right;\">\n",
       "      <th></th>\n",
       "      <th>姓名</th>\n",
       "      <th>性别</th>\n",
       "      <th>年龄</th>\n",
       "      <th>身高</th>\n",
       "      <th>体重</th>\n",
       "      <th>居住地址</th>\n",
       "      <th>分数</th>\n",
       "    </tr>\n",
       "  </thead>\n",
       "  <tbody>\n",
       "    <tr>\n",
       "      <th>0</th>\n",
       "      <td>小明</td>\n",
       "      <td>male</td>\n",
       "      <td>18</td>\n",
       "      <td>170</td>\n",
       "      <td>60</td>\n",
       "      <td>北京海淀</td>\n",
       "      <td>61</td>\n",
       "    </tr>\n",
       "    <tr>\n",
       "      <th>1</th>\n",
       "      <td>小华</td>\n",
       "      <td>female</td>\n",
       "      <td>28</td>\n",
       "      <td>160</td>\n",
       "      <td>50</td>\n",
       "      <td>上海静安</td>\n",
       "      <td>74</td>\n",
       "    </tr>\n",
       "    <tr>\n",
       "      <th>2</th>\n",
       "      <td>小红</td>\n",
       "      <td>female</td>\n",
       "      <td>22</td>\n",
       "      <td>175</td>\n",
       "      <td>64</td>\n",
       "      <td>广州天河</td>\n",
       "      <td>59</td>\n",
       "    </tr>\n",
       "    <tr>\n",
       "      <th>3</th>\n",
       "      <td>小青</td>\n",
       "      <td>male</td>\n",
       "      <td>31</td>\n",
       "      <td>182</td>\n",
       "      <td>80</td>\n",
       "      <td>深圳南山</td>\n",
       "      <td>82</td>\n",
       "    </tr>\n",
       "    <tr>\n",
       "      <th>4</th>\n",
       "      <td>小兰</td>\n",
       "      <td>female</td>\n",
       "      <td>25</td>\n",
       "      <td>165</td>\n",
       "      <td>65</td>\n",
       "      <td>杭州西湖</td>\n",
       "      <td>98</td>\n",
       "    </tr>\n",
       "    <tr>\n",
       "      <th>5</th>\n",
       "      <td>小芳</td>\n",
       "      <td>female</td>\n",
       "      <td>24</td>\n",
       "      <td>164</td>\n",
       "      <td>52</td>\n",
       "      <td>美国加州</td>\n",
       "      <td>55</td>\n",
       "    </tr>\n",
       "  </tbody>\n",
       "</table>\n",
       "</div>"
      ],
      "text/plain": [
       "   姓名      性别  年龄   身高  体重  居住地址  分数\n",
       "0  小明    male  18  170  60  北京海淀  61\n",
       "1  小华  female  28  160  50  上海静安  74\n",
       "2  小红  female  22  175  64  广州天河  59\n",
       "3  小青    male  31  182  80  深圳南山  82\n",
       "4  小兰  female  25  165  65  杭州西湖  98\n",
       "5  小芳  female  24  164  52  美国加州  55"
      ]
     },
     "execution_count": 93,
     "metadata": {},
     "output_type": "execute_result"
    }
   ],
   "source": [
    "z.shift(1)\n",
    "z"
   ]
  },
  {
   "cell_type": "code",
   "execution_count": 94,
   "metadata": {},
   "outputs": [
    {
     "data": {
      "text/html": [
       "<div>\n",
       "<style scoped>\n",
       "    .dataframe tbody tr th:only-of-type {\n",
       "        vertical-align: middle;\n",
       "    }\n",
       "\n",
       "    .dataframe tbody tr th {\n",
       "        vertical-align: top;\n",
       "    }\n",
       "\n",
       "    .dataframe thead th {\n",
       "        text-align: right;\n",
       "    }\n",
       "</style>\n",
       "<table border=\"1\" class=\"dataframe\">\n",
       "  <thead>\n",
       "    <tr style=\"text-align: right;\">\n",
       "      <th></th>\n",
       "      <th>姓名</th>\n",
       "      <th>性别</th>\n",
       "      <th>年龄</th>\n",
       "      <th>身高</th>\n",
       "      <th>体重</th>\n",
       "      <th>居住地址</th>\n",
       "      <th>分数</th>\n",
       "    </tr>\n",
       "  </thead>\n",
       "  <tbody>\n",
       "    <tr>\n",
       "      <th>0</th>\n",
       "      <td>小明</td>\n",
       "      <td>male</td>\n",
       "      <td>18</td>\n",
       "      <td>170</td>\n",
       "      <td>60</td>\n",
       "      <td>北京海淀</td>\n",
       "      <td>61</td>\n",
       "    </tr>\n",
       "    <tr>\n",
       "      <th>2</th>\n",
       "      <td>小红</td>\n",
       "      <td>female</td>\n",
       "      <td>22</td>\n",
       "      <td>175</td>\n",
       "      <td>64</td>\n",
       "      <td>广州天河</td>\n",
       "      <td>59</td>\n",
       "    </tr>\n",
       "    <tr>\n",
       "      <th>3</th>\n",
       "      <td>小青</td>\n",
       "      <td>male</td>\n",
       "      <td>31</td>\n",
       "      <td>182</td>\n",
       "      <td>80</td>\n",
       "      <td>深圳南山</td>\n",
       "      <td>82</td>\n",
       "    </tr>\n",
       "  </tbody>\n",
       "</table>\n",
       "</div>"
      ],
      "text/plain": [
       "   姓名      性别  年龄   身高  体重  居住地址  分数\n",
       "0  小明    male  18  170  60  北京海淀  61\n",
       "2  小红  female  22  175  64  广州天河  59\n",
       "3  小青    male  31  182  80  深圳南山  82"
      ]
     },
     "execution_count": 94,
     "metadata": {},
     "output_type": "execute_result"
    }
   ],
   "source": [
    "z.loc[z['身高']>=170]"
   ]
  },
  {
   "cell_type": "code",
   "execution_count": 95,
   "metadata": {},
   "outputs": [
    {
     "data": {
      "text/html": [
       "<div>\n",
       "<style scoped>\n",
       "    .dataframe tbody tr th:only-of-type {\n",
       "        vertical-align: middle;\n",
       "    }\n",
       "\n",
       "    .dataframe tbody tr th {\n",
       "        vertical-align: top;\n",
       "    }\n",
       "\n",
       "    .dataframe thead th {\n",
       "        text-align: right;\n",
       "    }\n",
       "</style>\n",
       "<table border=\"1\" class=\"dataframe\">\n",
       "  <thead>\n",
       "    <tr style=\"text-align: right;\">\n",
       "      <th></th>\n",
       "      <th>姓名</th>\n",
       "      <th>性别</th>\n",
       "      <th>年龄</th>\n",
       "      <th>身高</th>\n",
       "      <th>体重</th>\n",
       "      <th>居住地址</th>\n",
       "      <th>分数</th>\n",
       "    </tr>\n",
       "  </thead>\n",
       "  <tbody>\n",
       "    <tr>\n",
       "      <th>0</th>\n",
       "      <td>小明</td>\n",
       "      <td>male</td>\n",
       "      <td>18</td>\n",
       "      <td>170</td>\n",
       "      <td>60</td>\n",
       "      <td>北京海淀</td>\n",
       "      <td>61</td>\n",
       "    </tr>\n",
       "    <tr>\n",
       "      <th>2</th>\n",
       "      <td>小红</td>\n",
       "      <td>female</td>\n",
       "      <td>22</td>\n",
       "      <td>175</td>\n",
       "      <td>64</td>\n",
       "      <td>广州天河</td>\n",
       "      <td>59</td>\n",
       "    </tr>\n",
       "    <tr>\n",
       "      <th>3</th>\n",
       "      <td>小青</td>\n",
       "      <td>male</td>\n",
       "      <td>31</td>\n",
       "      <td>182</td>\n",
       "      <td>80</td>\n",
       "      <td>深圳南山</td>\n",
       "      <td>82</td>\n",
       "    </tr>\n",
       "  </tbody>\n",
       "</table>\n",
       "</div>"
      ],
      "text/plain": [
       "   姓名      性别  年龄   身高  体重  居住地址  分数\n",
       "0  小明    male  18  170  60  北京海淀  61\n",
       "2  小红  female  22  175  64  广州天河  59\n",
       "3  小青    male  31  182  80  深圳南山  82"
      ]
     },
     "execution_count": 95,
     "metadata": {},
     "output_type": "execute_result"
    }
   ],
   "source": [
    "z[z['身高']>=170]"
   ]
  },
  {
   "cell_type": "code",
   "execution_count": 96,
   "metadata": {},
   "outputs": [
    {
     "data": {
      "text/html": [
       "<div>\n",
       "<style scoped>\n",
       "    .dataframe tbody tr th:only-of-type {\n",
       "        vertical-align: middle;\n",
       "    }\n",
       "\n",
       "    .dataframe tbody tr th {\n",
       "        vertical-align: top;\n",
       "    }\n",
       "\n",
       "    .dataframe thead th {\n",
       "        text-align: right;\n",
       "    }\n",
       "</style>\n",
       "<table border=\"1\" class=\"dataframe\">\n",
       "  <thead>\n",
       "    <tr style=\"text-align: right;\">\n",
       "      <th></th>\n",
       "      <th>姓名</th>\n",
       "      <th>性别</th>\n",
       "      <th>年龄</th>\n",
       "      <th>身高</th>\n",
       "      <th>体重</th>\n",
       "      <th>居住地址</th>\n",
       "      <th>分数</th>\n",
       "    </tr>\n",
       "  </thead>\n",
       "  <tbody>\n",
       "    <tr>\n",
       "      <th>0</th>\n",
       "      <td>小明</td>\n",
       "      <td>male</td>\n",
       "      <td>18</td>\n",
       "      <td>170</td>\n",
       "      <td>60</td>\n",
       "      <td>北京海淀</td>\n",
       "      <td>61</td>\n",
       "    </tr>\n",
       "    <tr>\n",
       "      <th>1</th>\n",
       "      <td>小华</td>\n",
       "      <td>female</td>\n",
       "      <td>28</td>\n",
       "      <td>160</td>\n",
       "      <td>50</td>\n",
       "      <td>上海静安</td>\n",
       "      <td>74</td>\n",
       "    </tr>\n",
       "    <tr>\n",
       "      <th>2</th>\n",
       "      <td>小红</td>\n",
       "      <td>female</td>\n",
       "      <td>22</td>\n",
       "      <td>175</td>\n",
       "      <td>64</td>\n",
       "      <td>广州天河</td>\n",
       "      <td>59</td>\n",
       "    </tr>\n",
       "    <tr>\n",
       "      <th>3</th>\n",
       "      <td>小青</td>\n",
       "      <td>male</td>\n",
       "      <td>31</td>\n",
       "      <td>182</td>\n",
       "      <td>80</td>\n",
       "      <td>深圳南山</td>\n",
       "      <td>82</td>\n",
       "    </tr>\n",
       "    <tr>\n",
       "      <th>4</th>\n",
       "      <td>小兰</td>\n",
       "      <td>female</td>\n",
       "      <td>25</td>\n",
       "      <td>165</td>\n",
       "      <td>65</td>\n",
       "      <td>杭州西湖</td>\n",
       "      <td>98</td>\n",
       "    </tr>\n",
       "    <tr>\n",
       "      <th>5</th>\n",
       "      <td>小芳</td>\n",
       "      <td>female</td>\n",
       "      <td>24</td>\n",
       "      <td>164</td>\n",
       "      <td>52</td>\n",
       "      <td>美国加州</td>\n",
       "      <td>55</td>\n",
       "    </tr>\n",
       "  </tbody>\n",
       "</table>\n",
       "</div>"
      ],
      "text/plain": [
       "   姓名      性别  年龄   身高  体重  居住地址  分数\n",
       "0  小明    male  18  170  60  北京海淀  61\n",
       "1  小华  female  28  160  50  上海静安  74\n",
       "2  小红  female  22  175  64  广州天河  59\n",
       "3  小青    male  31  182  80  深圳南山  82\n",
       "4  小兰  female  25  165  65  杭州西湖  98\n",
       "5  小芳  female  24  164  52  美国加州  55"
      ]
     },
     "execution_count": 96,
     "metadata": {},
     "output_type": "execute_result"
    }
   ],
   "source": [
    "z"
   ]
  },
  {
   "cell_type": "code",
   "execution_count": 97,
   "metadata": {},
   "outputs": [
    {
     "data": {
      "text/plain": [
       "0    False\n",
       "1    False\n",
       "2    False\n",
       "3     True\n",
       "4     True\n",
       "dtype: bool"
      ]
     },
     "execution_count": 97,
     "metadata": {},
     "output_type": "execute_result"
    }
   ],
   "source": [
    "s>3"
   ]
  },
  {
   "cell_type": "code",
   "execution_count": 98,
   "metadata": {},
   "outputs": [],
   "source": [
    "s[s>3]=-s"
   ]
  },
  {
   "cell_type": "code",
   "execution_count": 99,
   "metadata": {},
   "outputs": [
    {
     "data": {
      "text/html": [
       "<div>\n",
       "<style scoped>\n",
       "    .dataframe tbody tr th:only-of-type {\n",
       "        vertical-align: middle;\n",
       "    }\n",
       "\n",
       "    .dataframe tbody tr th {\n",
       "        vertical-align: top;\n",
       "    }\n",
       "\n",
       "    .dataframe thead th {\n",
       "        text-align: right;\n",
       "    }\n",
       "</style>\n",
       "<table border=\"1\" class=\"dataframe\">\n",
       "  <thead>\n",
       "    <tr style=\"text-align: right;\">\n",
       "      <th></th>\n",
       "      <th>姓名</th>\n",
       "      <th>性别</th>\n",
       "      <th>年龄</th>\n",
       "      <th>身高</th>\n",
       "      <th>体重</th>\n",
       "      <th>居住地址</th>\n",
       "      <th>分数</th>\n",
       "    </tr>\n",
       "  </thead>\n",
       "  <tbody>\n",
       "    <tr>\n",
       "      <th>0</th>\n",
       "      <td>小明</td>\n",
       "      <td>male</td>\n",
       "      <td>18</td>\n",
       "      <td>170</td>\n",
       "      <td>60</td>\n",
       "      <td>北京海淀</td>\n",
       "      <td>61</td>\n",
       "    </tr>\n",
       "    <tr>\n",
       "      <th>1</th>\n",
       "      <td>小华</td>\n",
       "      <td>female</td>\n",
       "      <td>28</td>\n",
       "      <td>160</td>\n",
       "      <td>50</td>\n",
       "      <td>上海静安</td>\n",
       "      <td>74</td>\n",
       "    </tr>\n",
       "    <tr>\n",
       "      <th>小红的</th>\n",
       "      <td>小红</td>\n",
       "      <td>female</td>\n",
       "      <td>22</td>\n",
       "      <td>175</td>\n",
       "      <td>64</td>\n",
       "      <td>广州天河</td>\n",
       "      <td>59</td>\n",
       "    </tr>\n",
       "    <tr>\n",
       "      <th>3</th>\n",
       "      <td>小青</td>\n",
       "      <td>male</td>\n",
       "      <td>31</td>\n",
       "      <td>182</td>\n",
       "      <td>80</td>\n",
       "      <td>深圳南山</td>\n",
       "      <td>82</td>\n",
       "    </tr>\n",
       "    <tr>\n",
       "      <th>4</th>\n",
       "      <td>小兰</td>\n",
       "      <td>female</td>\n",
       "      <td>25</td>\n",
       "      <td>165</td>\n",
       "      <td>65</td>\n",
       "      <td>杭州西湖</td>\n",
       "      <td>98</td>\n",
       "    </tr>\n",
       "    <tr>\n",
       "      <th>5</th>\n",
       "      <td>小芳</td>\n",
       "      <td>female</td>\n",
       "      <td>24</td>\n",
       "      <td>164</td>\n",
       "      <td>52</td>\n",
       "      <td>美国加州</td>\n",
       "      <td>55</td>\n",
       "    </tr>\n",
       "  </tbody>\n",
       "</table>\n",
       "</div>"
      ],
      "text/plain": [
       "     姓名      性别  年龄   身高  体重  居住地址  分数\n",
       "0    小明    male  18  170  60  北京海淀  61\n",
       "1    小华  female  28  160  50  上海静安  74\n",
       "小红的  小红  female  22  175  64  广州天河  59\n",
       "3    小青    male  31  182  80  深圳南山  82\n",
       "4    小兰  female  25  165  65  杭州西湖  98\n",
       "5    小芳  female  24  164  52  美国加州  55"
      ]
     },
     "execution_count": 99,
     "metadata": {},
     "output_type": "execute_result"
    }
   ],
   "source": [
    "z.rename(index={2:'小红的'})"
   ]
  },
  {
   "cell_type": "code",
   "execution_count": 100,
   "metadata": {},
   "outputs": [
    {
     "data": {
      "text/plain": [
       "52    1\n",
       "60    1\n",
       "80    1\n",
       "50    1\n",
       "65    1\n",
       "64    1\n",
       "Name: 体重, dtype: int64"
      ]
     },
     "execution_count": 100,
     "metadata": {},
     "output_type": "execute_result"
    }
   ],
   "source": [
    "z['体重'].astype('int')\n",
    "z['年龄'].astype('object')\n",
    "z['体重'].value_counts()"
   ]
  },
  {
   "cell_type": "code",
   "execution_count": 101,
   "metadata": {},
   "outputs": [
    {
     "data": {
      "text/plain": [
       "6"
      ]
     },
     "execution_count": 101,
     "metadata": {},
     "output_type": "execute_result"
    }
   ],
   "source": [
    "len(z)"
   ]
  },
  {
   "cell_type": "code",
   "execution_count": 102,
   "metadata": {},
   "outputs": [],
   "source": [
    "s = pd.Series(np.random.randint(0,7,size=10))"
   ]
  },
  {
   "cell_type": "code",
   "execution_count": 103,
   "metadata": {},
   "outputs": [
    {
     "data": {
      "text/plain": [
       "0    0\n",
       "1    0\n",
       "2    4\n",
       "3    1\n",
       "4    4\n",
       "5    5\n",
       "6    3\n",
       "7    1\n",
       "8    5\n",
       "9    3\n",
       "dtype: int64"
      ]
     },
     "execution_count": 103,
     "metadata": {},
     "output_type": "execute_result"
    }
   ],
   "source": [
    "s"
   ]
  },
  {
   "cell_type": "code",
   "execution_count": 104,
   "metadata": {},
   "outputs": [
    {
     "data": {
      "text/plain": [
       "5    2\n",
       "4    2\n",
       "3    2\n",
       "1    2\n",
       "0    2\n",
       "dtype: int64"
      ]
     },
     "execution_count": 104,
     "metadata": {},
     "output_type": "execute_result"
    }
   ],
   "source": [
    "s.value_counts()"
   ]
  },
  {
   "cell_type": "code",
   "execution_count": 105,
   "metadata": {},
   "outputs": [
    {
     "data": {
      "text/plain": [
       "0      MALE\n",
       "1    FEMALE\n",
       "2    FEMALE\n",
       "3      MALE\n",
       "4    FEMALE\n",
       "5    FEMALE\n",
       "Name: 性别, dtype: object"
      ]
     },
     "execution_count": 105,
     "metadata": {},
     "output_type": "execute_result"
    }
   ],
   "source": [
    "z['性别'].str.upper()"
   ]
  },
  {
   "cell_type": "code",
   "execution_count": 2,
   "metadata": {},
   "outputs": [],
   "source": [
    "left = pd.DataFrame({'key':['foo','foo'],'lavl':[1,2]})"
   ]
  },
  {
   "cell_type": "code",
   "execution_count": 3,
   "metadata": {},
   "outputs": [],
   "source": [
    "right = pd.DataFrame({'key':['foo','foo'],'lavl':[4,5]})"
   ]
  },
  {
   "cell_type": "code",
   "execution_count": 4,
   "metadata": {},
   "outputs": [
    {
     "data": {
      "text/html": [
       "<div>\n",
       "<style scoped>\n",
       "    .dataframe tbody tr th:only-of-type {\n",
       "        vertical-align: middle;\n",
       "    }\n",
       "\n",
       "    .dataframe tbody tr th {\n",
       "        vertical-align: top;\n",
       "    }\n",
       "\n",
       "    .dataframe thead th {\n",
       "        text-align: right;\n",
       "    }\n",
       "</style>\n",
       "<table border=\"1\" class=\"dataframe\">\n",
       "  <thead>\n",
       "    <tr style=\"text-align: right;\">\n",
       "      <th></th>\n",
       "      <th>key</th>\n",
       "      <th>lavl</th>\n",
       "    </tr>\n",
       "  </thead>\n",
       "  <tbody>\n",
       "    <tr>\n",
       "      <th>0</th>\n",
       "      <td>foo</td>\n",
       "      <td>1</td>\n",
       "    </tr>\n",
       "    <tr>\n",
       "      <th>1</th>\n",
       "      <td>foo</td>\n",
       "      <td>2</td>\n",
       "    </tr>\n",
       "  </tbody>\n",
       "</table>\n",
       "</div>"
      ],
      "text/plain": [
       "   key  lavl\n",
       "0  foo     1\n",
       "1  foo     2"
      ]
     },
     "execution_count": 4,
     "metadata": {},
     "output_type": "execute_result"
    }
   ],
   "source": [
    "left"
   ]
  },
  {
   "cell_type": "code",
   "execution_count": 5,
   "metadata": {},
   "outputs": [
    {
     "data": {
      "text/html": [
       "<div>\n",
       "<style scoped>\n",
       "    .dataframe tbody tr th:only-of-type {\n",
       "        vertical-align: middle;\n",
       "    }\n",
       "\n",
       "    .dataframe tbody tr th {\n",
       "        vertical-align: top;\n",
       "    }\n",
       "\n",
       "    .dataframe thead th {\n",
       "        text-align: right;\n",
       "    }\n",
       "</style>\n",
       "<table border=\"1\" class=\"dataframe\">\n",
       "  <thead>\n",
       "    <tr style=\"text-align: right;\">\n",
       "      <th></th>\n",
       "      <th>key</th>\n",
       "      <th>lavl</th>\n",
       "    </tr>\n",
       "  </thead>\n",
       "  <tbody>\n",
       "    <tr>\n",
       "      <th>0</th>\n",
       "      <td>foo</td>\n",
       "      <td>4</td>\n",
       "    </tr>\n",
       "    <tr>\n",
       "      <th>1</th>\n",
       "      <td>foo</td>\n",
       "      <td>5</td>\n",
       "    </tr>\n",
       "  </tbody>\n",
       "</table>\n",
       "</div>"
      ],
      "text/plain": [
       "   key  lavl\n",
       "0  foo     4\n",
       "1  foo     5"
      ]
     },
     "execution_count": 5,
     "metadata": {},
     "output_type": "execute_result"
    }
   ],
   "source": [
    "right"
   ]
  },
  {
   "cell_type": "code",
   "execution_count": 7,
   "metadata": {},
   "outputs": [
    {
     "data": {
      "text/html": [
       "<div>\n",
       "<style scoped>\n",
       "    .dataframe tbody tr th:only-of-type {\n",
       "        vertical-align: middle;\n",
       "    }\n",
       "\n",
       "    .dataframe tbody tr th {\n",
       "        vertical-align: top;\n",
       "    }\n",
       "\n",
       "    .dataframe thead th {\n",
       "        text-align: right;\n",
       "    }\n",
       "</style>\n",
       "<table border=\"1\" class=\"dataframe\">\n",
       "  <thead>\n",
       "    <tr style=\"text-align: right;\">\n",
       "      <th></th>\n",
       "      <th>key</th>\n",
       "      <th>lavl_x</th>\n",
       "      <th>lavl_y</th>\n",
       "    </tr>\n",
       "  </thead>\n",
       "  <tbody>\n",
       "    <tr>\n",
       "      <th>0</th>\n",
       "      <td>foo</td>\n",
       "      <td>1</td>\n",
       "      <td>4</td>\n",
       "    </tr>\n",
       "    <tr>\n",
       "      <th>1</th>\n",
       "      <td>foo</td>\n",
       "      <td>1</td>\n",
       "      <td>5</td>\n",
       "    </tr>\n",
       "    <tr>\n",
       "      <th>2</th>\n",
       "      <td>foo</td>\n",
       "      <td>2</td>\n",
       "      <td>4</td>\n",
       "    </tr>\n",
       "    <tr>\n",
       "      <th>3</th>\n",
       "      <td>foo</td>\n",
       "      <td>2</td>\n",
       "      <td>5</td>\n",
       "    </tr>\n",
       "  </tbody>\n",
       "</table>\n",
       "</div>"
      ],
      "text/plain": [
       "   key  lavl_x  lavl_y\n",
       "0  foo       1       4\n",
       "1  foo       1       5\n",
       "2  foo       2       4\n",
       "3  foo       2       5"
      ]
     },
     "execution_count": 7,
     "metadata": {},
     "output_type": "execute_result"
    }
   ],
   "source": [
    "pd.merge(left,right,on='key')"
   ]
  },
  {
   "cell_type": "code",
   "execution_count": 111,
   "metadata": {},
   "outputs": [],
   "source": [
    "z1 = z.loc[0]"
   ]
  },
  {
   "cell_type": "code",
   "execution_count": 112,
   "metadata": {},
   "outputs": [
    {
     "data": {
      "text/html": [
       "<div>\n",
       "<style scoped>\n",
       "    .dataframe tbody tr th:only-of-type {\n",
       "        vertical-align: middle;\n",
       "    }\n",
       "\n",
       "    .dataframe tbody tr th {\n",
       "        vertical-align: top;\n",
       "    }\n",
       "\n",
       "    .dataframe thead th {\n",
       "        text-align: right;\n",
       "    }\n",
       "</style>\n",
       "<table border=\"1\" class=\"dataframe\">\n",
       "  <thead>\n",
       "    <tr style=\"text-align: right;\">\n",
       "      <th></th>\n",
       "      <th>姓名</th>\n",
       "      <th>性别</th>\n",
       "      <th>年龄</th>\n",
       "      <th>身高</th>\n",
       "      <th>体重</th>\n",
       "      <th>居住地址</th>\n",
       "      <th>分数</th>\n",
       "    </tr>\n",
       "  </thead>\n",
       "  <tbody>\n",
       "    <tr>\n",
       "      <th>0</th>\n",
       "      <td>小明</td>\n",
       "      <td>male</td>\n",
       "      <td>18</td>\n",
       "      <td>170</td>\n",
       "      <td>60</td>\n",
       "      <td>北京海淀</td>\n",
       "      <td>61</td>\n",
       "    </tr>\n",
       "    <tr>\n",
       "      <th>1</th>\n",
       "      <td>小华</td>\n",
       "      <td>female</td>\n",
       "      <td>28</td>\n",
       "      <td>160</td>\n",
       "      <td>50</td>\n",
       "      <td>上海静安</td>\n",
       "      <td>74</td>\n",
       "    </tr>\n",
       "    <tr>\n",
       "      <th>2</th>\n",
       "      <td>小红</td>\n",
       "      <td>female</td>\n",
       "      <td>22</td>\n",
       "      <td>175</td>\n",
       "      <td>64</td>\n",
       "      <td>广州天河</td>\n",
       "      <td>59</td>\n",
       "    </tr>\n",
       "    <tr>\n",
       "      <th>3</th>\n",
       "      <td>小青</td>\n",
       "      <td>male</td>\n",
       "      <td>31</td>\n",
       "      <td>182</td>\n",
       "      <td>80</td>\n",
       "      <td>深圳南山</td>\n",
       "      <td>82</td>\n",
       "    </tr>\n",
       "    <tr>\n",
       "      <th>4</th>\n",
       "      <td>小兰</td>\n",
       "      <td>female</td>\n",
       "      <td>25</td>\n",
       "      <td>165</td>\n",
       "      <td>65</td>\n",
       "      <td>杭州西湖</td>\n",
       "      <td>98</td>\n",
       "    </tr>\n",
       "    <tr>\n",
       "      <th>5</th>\n",
       "      <td>小芳</td>\n",
       "      <td>female</td>\n",
       "      <td>24</td>\n",
       "      <td>164</td>\n",
       "      <td>52</td>\n",
       "      <td>美国加州</td>\n",
       "      <td>55</td>\n",
       "    </tr>\n",
       "    <tr>\n",
       "      <th>6</th>\n",
       "      <td>小明</td>\n",
       "      <td>male</td>\n",
       "      <td>18</td>\n",
       "      <td>170</td>\n",
       "      <td>60</td>\n",
       "      <td>北京海淀</td>\n",
       "      <td>61</td>\n",
       "    </tr>\n",
       "  </tbody>\n",
       "</table>\n",
       "</div>"
      ],
      "text/plain": [
       "   姓名      性别  年龄   身高  体重  居住地址  分数\n",
       "0  小明    male  18  170  60  北京海淀  61\n",
       "1  小华  female  28  160  50  上海静安  74\n",
       "2  小红  female  22  175  64  广州天河  59\n",
       "3  小青    male  31  182  80  深圳南山  82\n",
       "4  小兰  female  25  165  65  杭州西湖  98\n",
       "5  小芳  female  24  164  52  美国加州  55\n",
       "6  小明    male  18  170  60  北京海淀  61"
      ]
     },
     "execution_count": 112,
     "metadata": {},
     "output_type": "execute_result"
    }
   ],
   "source": [
    "z.append(z1,ignore_index=True)"
   ]
  },
  {
   "cell_type": "code",
   "execution_count": 8,
   "metadata": {},
   "outputs": [
    {
     "ename": "NameError",
     "evalue": "name 'z1' is not defined",
     "output_type": "error",
     "traceback": [
      "\u001b[0;31m---------------------------------------------------------------------------\u001b[0m",
      "\u001b[0;31mNameError\u001b[0m                                 Traceback (most recent call last)",
      "\u001b[0;32m<ipython-input-8-8fdf29504afa>\u001b[0m in \u001b[0;36m<module>\u001b[0;34m\u001b[0m\n\u001b[0;32m----> 1\u001b[0;31m \u001b[0mz1\u001b[0m\u001b[0;34m\u001b[0m\u001b[0;34m\u001b[0m\u001b[0m\n\u001b[0m",
      "\u001b[0;31mNameError\u001b[0m: name 'z1' is not defined"
     ]
    }
   ],
   "source": [
    "z"
   ]
  },
  {
   "cell_type": "code",
   "execution_count": 114,
   "metadata": {},
   "outputs": [
    {
     "data": {
      "text/html": [
       "<div>\n",
       "<style scoped>\n",
       "    .dataframe tbody tr th:only-of-type {\n",
       "        vertical-align: middle;\n",
       "    }\n",
       "\n",
       "    .dataframe tbody tr th {\n",
       "        vertical-align: top;\n",
       "    }\n",
       "\n",
       "    .dataframe thead th {\n",
       "        text-align: right;\n",
       "    }\n",
       "</style>\n",
       "<table border=\"1\" class=\"dataframe\">\n",
       "  <thead>\n",
       "    <tr style=\"text-align: right;\">\n",
       "      <th></th>\n",
       "      <th>身高</th>\n",
       "      <th>体重</th>\n",
       "    </tr>\n",
       "    <tr>\n",
       "      <th>性别</th>\n",
       "      <th></th>\n",
       "      <th></th>\n",
       "    </tr>\n",
       "  </thead>\n",
       "  <tbody>\n",
       "    <tr>\n",
       "      <th>female</th>\n",
       "      <td>166.0</td>\n",
       "      <td>57.75</td>\n",
       "    </tr>\n",
       "    <tr>\n",
       "      <th>male</th>\n",
       "      <td>176.0</td>\n",
       "      <td>70.00</td>\n",
       "    </tr>\n",
       "  </tbody>\n",
       "</table>\n",
       "</div>"
      ],
      "text/plain": [
       "           身高     体重\n",
       "性别                  \n",
       "female  166.0  57.75\n",
       "male    176.0  70.00"
      ]
     },
     "execution_count": 114,
     "metadata": {},
     "output_type": "execute_result"
    }
   ],
   "source": [
    "z.groupby('性别').mean()[['身高','体重']]"
   ]
  },
  {
   "cell_type": "code",
   "execution_count": 115,
   "metadata": {},
   "outputs": [
    {
     "data": {
      "text/html": [
       "<div>\n",
       "<style scoped>\n",
       "    .dataframe tbody tr th:only-of-type {\n",
       "        vertical-align: middle;\n",
       "    }\n",
       "\n",
       "    .dataframe tbody tr th {\n",
       "        vertical-align: top;\n",
       "    }\n",
       "\n",
       "    .dataframe thead th {\n",
       "        text-align: right;\n",
       "    }\n",
       "</style>\n",
       "<table border=\"1\" class=\"dataframe\">\n",
       "  <thead>\n",
       "    <tr style=\"text-align: right;\">\n",
       "      <th></th>\n",
       "      <th>姓名</th>\n",
       "      <th>性别</th>\n",
       "      <th>年龄</th>\n",
       "      <th>身高</th>\n",
       "      <th>体重</th>\n",
       "      <th>居住地址</th>\n",
       "      <th>分数</th>\n",
       "    </tr>\n",
       "  </thead>\n",
       "  <tbody>\n",
       "    <tr>\n",
       "      <th>0</th>\n",
       "      <td>小明</td>\n",
       "      <td>male</td>\n",
       "      <td>18</td>\n",
       "      <td>170</td>\n",
       "      <td>60</td>\n",
       "      <td>北京海淀</td>\n",
       "      <td>61</td>\n",
       "    </tr>\n",
       "    <tr>\n",
       "      <th>1</th>\n",
       "      <td>小华</td>\n",
       "      <td>female</td>\n",
       "      <td>28</td>\n",
       "      <td>160</td>\n",
       "      <td>50</td>\n",
       "      <td>上海静安</td>\n",
       "      <td>74</td>\n",
       "    </tr>\n",
       "    <tr>\n",
       "      <th>2</th>\n",
       "      <td>小红</td>\n",
       "      <td>female</td>\n",
       "      <td>22</td>\n",
       "      <td>175</td>\n",
       "      <td>64</td>\n",
       "      <td>广州天河</td>\n",
       "      <td>59</td>\n",
       "    </tr>\n",
       "    <tr>\n",
       "      <th>3</th>\n",
       "      <td>小青</td>\n",
       "      <td>male</td>\n",
       "      <td>31</td>\n",
       "      <td>182</td>\n",
       "      <td>80</td>\n",
       "      <td>深圳南山</td>\n",
       "      <td>82</td>\n",
       "    </tr>\n",
       "    <tr>\n",
       "      <th>4</th>\n",
       "      <td>小兰</td>\n",
       "      <td>female</td>\n",
       "      <td>25</td>\n",
       "      <td>165</td>\n",
       "      <td>65</td>\n",
       "      <td>杭州西湖</td>\n",
       "      <td>98</td>\n",
       "    </tr>\n",
       "    <tr>\n",
       "      <th>5</th>\n",
       "      <td>小芳</td>\n",
       "      <td>female</td>\n",
       "      <td>24</td>\n",
       "      <td>164</td>\n",
       "      <td>52</td>\n",
       "      <td>美国加州</td>\n",
       "      <td>55</td>\n",
       "    </tr>\n",
       "  </tbody>\n",
       "</table>\n",
       "</div>"
      ],
      "text/plain": [
       "   姓名      性别  年龄   身高  体重  居住地址  分数\n",
       "0  小明    male  18  170  60  北京海淀  61\n",
       "1  小华  female  28  160  50  上海静安  74\n",
       "2  小红  female  22  175  64  广州天河  59\n",
       "3  小青    male  31  182  80  深圳南山  82\n",
       "4  小兰  female  25  165  65  杭州西湖  98\n",
       "5  小芳  female  24  164  52  美国加州  55"
      ]
     },
     "execution_count": 115,
     "metadata": {},
     "output_type": "execute_result"
    }
   ],
   "source": [
    "z"
   ]
  },
  {
   "cell_type": "code",
   "execution_count": 116,
   "metadata": {},
   "outputs": [],
   "source": [
    "z.to_excel('test.xlsx',header=False,index=False,columns=['姓名','性别'])"
   ]
  },
  {
   "cell_type": "code",
   "execution_count": 117,
   "metadata": {},
   "outputs": [
    {
     "data": {
      "text/html": [
       "<div>\n",
       "<style scoped>\n",
       "    .dataframe tbody tr th:only-of-type {\n",
       "        vertical-align: middle;\n",
       "    }\n",
       "\n",
       "    .dataframe tbody tr th {\n",
       "        vertical-align: top;\n",
       "    }\n",
       "\n",
       "    .dataframe thead th {\n",
       "        text-align: right;\n",
       "    }\n",
       "</style>\n",
       "<table border=\"1\" class=\"dataframe\">\n",
       "  <thead>\n",
       "    <tr style=\"text-align: right;\">\n",
       "      <th></th>\n",
       "      <th>姓名</th>\n",
       "      <th>性别</th>\n",
       "      <th>年龄</th>\n",
       "      <th>身高</th>\n",
       "      <th>体重</th>\n",
       "      <th>居住地址</th>\n",
       "      <th>分数</th>\n",
       "    </tr>\n",
       "  </thead>\n",
       "  <tbody>\n",
       "    <tr>\n",
       "      <th>0</th>\n",
       "      <td>小明</td>\n",
       "      <td>male</td>\n",
       "      <td>18</td>\n",
       "      <td>170</td>\n",
       "      <td>60</td>\n",
       "      <td>北京海淀</td>\n",
       "      <td>61</td>\n",
       "    </tr>\n",
       "    <tr>\n",
       "      <th>1</th>\n",
       "      <td>小华</td>\n",
       "      <td>female</td>\n",
       "      <td>28</td>\n",
       "      <td>160</td>\n",
       "      <td>50</td>\n",
       "      <td>上海静安</td>\n",
       "      <td>74</td>\n",
       "    </tr>\n",
       "    <tr>\n",
       "      <th>2</th>\n",
       "      <td>小红</td>\n",
       "      <td>female</td>\n",
       "      <td>22</td>\n",
       "      <td>175</td>\n",
       "      <td>64</td>\n",
       "      <td>广州天河</td>\n",
       "      <td>59</td>\n",
       "    </tr>\n",
       "    <tr>\n",
       "      <th>3</th>\n",
       "      <td>小青</td>\n",
       "      <td>male</td>\n",
       "      <td>31</td>\n",
       "      <td>182</td>\n",
       "      <td>80</td>\n",
       "      <td>深圳南山</td>\n",
       "      <td>82</td>\n",
       "    </tr>\n",
       "    <tr>\n",
       "      <th>4</th>\n",
       "      <td>小兰</td>\n",
       "      <td>female</td>\n",
       "      <td>25</td>\n",
       "      <td>165</td>\n",
       "      <td>65</td>\n",
       "      <td>杭州西湖</td>\n",
       "      <td>98</td>\n",
       "    </tr>\n",
       "    <tr>\n",
       "      <th>5</th>\n",
       "      <td>小芳</td>\n",
       "      <td>female</td>\n",
       "      <td>24</td>\n",
       "      <td>164</td>\n",
       "      <td>52</td>\n",
       "      <td>美国加州</td>\n",
       "      <td>55</td>\n",
       "    </tr>\n",
       "  </tbody>\n",
       "</table>\n",
       "</div>"
      ],
      "text/plain": [
       "   姓名      性别  年龄   身高  体重  居住地址  分数\n",
       "0  小明    male  18  170  60  北京海淀  61\n",
       "1  小华  female  28  160  50  上海静安  74\n",
       "2  小红  female  22  175  64  广州天河  59\n",
       "3  小青    male  31  182  80  深圳南山  82\n",
       "4  小兰  female  25  165  65  杭州西湖  98\n",
       "5  小芳  female  24  164  52  美国加州  55"
      ]
     },
     "execution_count": 117,
     "metadata": {},
     "output_type": "execute_result"
    }
   ],
   "source": [
    "z"
   ]
  },
  {
   "cell_type": "code",
   "execution_count": 118,
   "metadata": {},
   "outputs": [
    {
     "data": {
      "text/plain": [
       "0  姓名          小明\n",
       "   性别        male\n",
       "   年龄          18\n",
       "   身高         170\n",
       "   体重          60\n",
       "   居住地址      北京海淀\n",
       "   分数          61\n",
       "1  姓名          小华\n",
       "   性别      female\n",
       "   年龄          28\n",
       "   身高         160\n",
       "   体重          50\n",
       "   居住地址      上海静安\n",
       "   分数          74\n",
       "2  姓名          小红\n",
       "   性别      female\n",
       "   年龄          22\n",
       "   身高         175\n",
       "   体重          64\n",
       "   居住地址      广州天河\n",
       "   分数          59\n",
       "3  姓名          小青\n",
       "   性别        male\n",
       "   年龄          31\n",
       "   身高         182\n",
       "   体重          80\n",
       "   居住地址      深圳南山\n",
       "   分数          82\n",
       "4  姓名          小兰\n",
       "   性别      female\n",
       "   年龄          25\n",
       "   身高         165\n",
       "   体重          65\n",
       "   居住地址      杭州西湖\n",
       "   分数          98\n",
       "5  姓名          小芳\n",
       "   性别      female\n",
       "   年龄          24\n",
       "   身高         164\n",
       "   体重          52\n",
       "   居住地址      美国加州\n",
       "   分数          55\n",
       "dtype: object"
      ]
     },
     "execution_count": 118,
     "metadata": {},
     "output_type": "execute_result"
    }
   ],
   "source": [
    "res = z.stack()\n",
    "res"
   ]
  },
  {
   "cell_type": "code",
   "execution_count": 119,
   "metadata": {},
   "outputs": [
    {
     "data": {
      "text/html": [
       "<div>\n",
       "<style scoped>\n",
       "    .dataframe tbody tr th:only-of-type {\n",
       "        vertical-align: middle;\n",
       "    }\n",
       "\n",
       "    .dataframe tbody tr th {\n",
       "        vertical-align: top;\n",
       "    }\n",
       "\n",
       "    .dataframe thead th {\n",
       "        text-align: right;\n",
       "    }\n",
       "</style>\n",
       "<table border=\"1\" class=\"dataframe\">\n",
       "  <thead>\n",
       "    <tr style=\"text-align: right;\">\n",
       "      <th></th>\n",
       "      <th>姓名</th>\n",
       "      <th>性别</th>\n",
       "      <th>年龄</th>\n",
       "      <th>身高</th>\n",
       "      <th>体重</th>\n",
       "      <th>居住地址</th>\n",
       "      <th>分数</th>\n",
       "    </tr>\n",
       "  </thead>\n",
       "  <tbody>\n",
       "    <tr>\n",
       "      <th>0</th>\n",
       "      <td>小明</td>\n",
       "      <td>male</td>\n",
       "      <td>18</td>\n",
       "      <td>170</td>\n",
       "      <td>60</td>\n",
       "      <td>北京海淀</td>\n",
       "      <td>61</td>\n",
       "    </tr>\n",
       "    <tr>\n",
       "      <th>1</th>\n",
       "      <td>小华</td>\n",
       "      <td>female</td>\n",
       "      <td>28</td>\n",
       "      <td>160</td>\n",
       "      <td>50</td>\n",
       "      <td>上海静安</td>\n",
       "      <td>74</td>\n",
       "    </tr>\n",
       "    <tr>\n",
       "      <th>2</th>\n",
       "      <td>小红</td>\n",
       "      <td>female</td>\n",
       "      <td>22</td>\n",
       "      <td>175</td>\n",
       "      <td>64</td>\n",
       "      <td>广州天河</td>\n",
       "      <td>59</td>\n",
       "    </tr>\n",
       "    <tr>\n",
       "      <th>3</th>\n",
       "      <td>小青</td>\n",
       "      <td>male</td>\n",
       "      <td>31</td>\n",
       "      <td>182</td>\n",
       "      <td>80</td>\n",
       "      <td>深圳南山</td>\n",
       "      <td>82</td>\n",
       "    </tr>\n",
       "    <tr>\n",
       "      <th>4</th>\n",
       "      <td>小兰</td>\n",
       "      <td>female</td>\n",
       "      <td>25</td>\n",
       "      <td>165</td>\n",
       "      <td>65</td>\n",
       "      <td>杭州西湖</td>\n",
       "      <td>98</td>\n",
       "    </tr>\n",
       "    <tr>\n",
       "      <th>5</th>\n",
       "      <td>小芳</td>\n",
       "      <td>female</td>\n",
       "      <td>24</td>\n",
       "      <td>164</td>\n",
       "      <td>52</td>\n",
       "      <td>美国加州</td>\n",
       "      <td>55</td>\n",
       "    </tr>\n",
       "  </tbody>\n",
       "</table>\n",
       "</div>"
      ],
      "text/plain": [
       "   姓名      性别  年龄   身高  体重  居住地址  分数\n",
       "0  小明    male  18  170  60  北京海淀  61\n",
       "1  小华  female  28  160  50  上海静安  74\n",
       "2  小红  female  22  175  64  广州天河  59\n",
       "3  小青    male  31  182  80  深圳南山  82\n",
       "4  小兰  female  25  165  65  杭州西湖  98\n",
       "5  小芳  female  24  164  52  美国加州  55"
      ]
     },
     "execution_count": 119,
     "metadata": {},
     "output_type": "execute_result"
    }
   ],
   "source": [
    "res.unstack()"
   ]
  },
  {
   "cell_type": "markdown",
   "metadata": {},
   "source": [
    "# 画图"
   ]
  },
  {
   "cell_type": "code",
   "execution_count": 9,
   "metadata": {},
   "outputs": [],
   "source": [
    "ts = pd.Series(np.random.randn(10),index=pd.date_range('20000101',periods=10))"
   ]
  },
  {
   "cell_type": "code",
   "execution_count": 10,
   "metadata": {},
   "outputs": [
    {
     "data": {
      "text/plain": [
       "2000-01-01   -0.989887\n",
       "2000-01-02   -0.212635\n",
       "2000-01-03    0.043889\n",
       "2000-01-04    0.621732\n",
       "2000-01-05    0.830859\n",
       "2000-01-06    1.493591\n",
       "2000-01-07   -0.705552\n",
       "2000-01-08   -0.989383\n",
       "2000-01-09    0.865231\n",
       "2000-01-10    0.390588\n",
       "Freq: D, dtype: float64"
      ]
     },
     "execution_count": 10,
     "metadata": {},
     "output_type": "execute_result"
    }
   ],
   "source": [
    "ts"
   ]
  },
  {
   "cell_type": "code",
   "execution_count": 13,
   "metadata": {},
   "outputs": [
    {
     "data": {
      "text/plain": [
       "Text(0, 0.5, 'awesome')"
      ]
     },
     "execution_count": 13,
     "metadata": {},
     "output_type": "execute_result"
    },
    {
     "data": {
      "image/png": "[encoded data removed]",
      "text/plain": [
       "<Figure size 432x288 with 1 Axes>"
      ]
     },
     "metadata": {
      "needs_background": "light"
     },
     "output_type": "display_data"
    }
   ],
   "source": [
    "ts.plot()\n",
    "plt.ylabel('awesome')"
   ]
  },
  {
   "cell_type": "code",
   "execution_count": 25,
   "metadata": {},
   "outputs": [],
   "source": [
    "# 处理离群值\n",
    "s = pd.Series([1,-1.2,1.5,0.5,0.8,30])"
   ]
  },
  {
   "cell_type": "code",
   "execution_count": 26,
   "metadata": {},
   "outputs": [
    {
     "data": {
      "text/plain": [
       "0    1.0\n",
       "1   -1.2\n",
       "2    1.5\n",
       "3    0.5\n",
       "4    0.8\n",
       "dtype: float64"
      ]
     },
     "execution_count": 26,
     "metadata": {},
     "output_type": "execute_result"
    }
   ],
   "source": [
    "s[s<10]"
   ]
  },
  {
   "cell_type": "code",
   "execution_count": 27,
   "metadata": {},
   "outputs": [
    {
     "data": {
      "image/png": "[encoded data removed]",
      "text/plain": [
       "<Figure size 432x288 with 1 Axes>"
      ]
     },
     "metadata": {
      "needs_background": "light"
     },
     "output_type": "display_data"
    }
   ],
   "source": [
    "plt.boxplot(s)\n",
    "plt.show()"
   ]
  },
  {
   "cell_type": "code",
   "execution_count": 28,
   "metadata": {},
   "outputs": [
    {
     "data": {
      "text/plain": [
       "0    1.0\n",
       "1   -1.0\n",
       "2    1.0\n",
       "3    1.0\n",
       "4    1.0\n",
       "5    1.0\n",
       "dtype: float64"
      ]
     },
     "execution_count": 28,
     "metadata": {},
     "output_type": "execute_result"
    }
   ],
   "source": [
    "# 查看正负号\n",
    "np.sign(s)"
   ]
  },
  {
   "cell_type": "code",
   "execution_count": null,
   "metadata": {},
   "outputs": [],
   "source": []
  },
  {
   "cell_type": "markdown",
   "metadata": {},
   "source": [
    "# matrix"
   ]
  },
  {
   "cell_type": "code",
   "execution_count": 3,
   "metadata": {},
   "outputs": [],
   "source": [
    "a1 = np.array([[1,2],[3,4]])\n",
    "b1 = np.matrix([[1,2],[3,4]])"
   ]
  },
  {
   "cell_type": "code",
   "execution_count": 4,
   "metadata": {},
   "outputs": [
    {
     "data": {
      "text/plain": [
       "array([[1, 3],\n",
       "       [2, 4]])"
      ]
     },
     "execution_count": 4,
     "metadata": {},
     "output_type": "execute_result"
    }
   ],
   "source": [
    "a1.T"
   ]
  },
  {
   "cell_type": "code",
   "execution_count": 5,
   "metadata": {},
   "outputs": [
    {
     "data": {
      "text/plain": [
       "matrix([[1, 3],\n",
       "        [2, 4]])"
      ]
     },
     "execution_count": 5,
     "metadata": {},
     "output_type": "execute_result"
    }
   ],
   "source": [
    "b1.T"
   ]
  },
  {
   "cell_type": "code",
   "execution_count": 15,
   "metadata": {},
   "outputs": [],
   "source": [
    "# matrix 和 array 分别取 共轭矩阵 .H"
   ]
  },
  {
   "cell_type": "code",
   "execution_count": 16,
   "metadata": {},
   "outputs": [
    {
     "ename": "AttributeError",
     "evalue": "'numpy.ndarray' object has no attribute 'H'",
     "output_type": "error",
     "traceback": [
      "\u001b[0;31m---------------------------------------------------------------------------\u001b[0m",
      "\u001b[0;31mAttributeError\u001b[0m                            Traceback (most recent call last)",
      "\u001b[0;32m<ipython-input-16-82fccb36474e>\u001b[0m in \u001b[0;36m<module>\u001b[0;34m\u001b[0m\n\u001b[0;32m----> 1\u001b[0;31m \u001b[0ma1\u001b[0m\u001b[0;34m.\u001b[0m\u001b[0mH\u001b[0m\u001b[0;34m\u001b[0m\u001b[0;34m\u001b[0m\u001b[0m\n\u001b[0m",
      "\u001b[0;31mAttributeError\u001b[0m: 'numpy.ndarray' object has no attribute 'H'"
     ]
    }
   ],
   "source": [
    "a1.H"
   ]
  },
  {
   "cell_type": "code",
   "execution_count": 17,
   "metadata": {},
   "outputs": [
    {
     "data": {
      "text/plain": [
       "matrix([[1, 3],\n",
       "        [2, 4]])"
      ]
     },
     "execution_count": 17,
     "metadata": {},
     "output_type": "execute_result"
    }
   ],
   "source": [
    "b1.H"
   ]
  },
  {
   "cell_type": "code",
   "execution_count": 18,
   "metadata": {},
   "outputs": [],
   "source": [
    "# matrix 和 array 分别取 逆矩阵 .I"
   ]
  },
  {
   "cell_type": "code",
   "execution_count": 19,
   "metadata": {},
   "outputs": [
    {
     "ename": "AttributeError",
     "evalue": "'numpy.ndarray' object has no attribute 'I'",
     "output_type": "error",
     "traceback": [
      "\u001b[0;31m---------------------------------------------------------------------------\u001b[0m",
      "\u001b[0;31mAttributeError\u001b[0m                            Traceback (most recent call last)",
      "\u001b[0;32m<ipython-input-19-11344744ae27>\u001b[0m in \u001b[0;36m<module>\u001b[0;34m\u001b[0m\n\u001b[0;32m----> 1\u001b[0;31m \u001b[0ma1\u001b[0m\u001b[0;34m.\u001b[0m\u001b[0mI\u001b[0m\u001b[0;34m\u001b[0m\u001b[0;34m\u001b[0m\u001b[0m\n\u001b[0m",
      "\u001b[0;31mAttributeError\u001b[0m: 'numpy.ndarray' object has no attribute 'I'"
     ]
    }
   ],
   "source": [
    "a1.I"
   ]
  },
  {
   "cell_type": "code",
   "execution_count": 20,
   "metadata": {},
   "outputs": [
    {
     "data": {
      "text/plain": [
       "matrix([[-2. ,  1. ],\n",
       "        [ 1.5, -0.5]])"
      ]
     },
     "execution_count": 20,
     "metadata": {},
     "output_type": "execute_result"
    }
   ],
   "source": [
    "b1.I"
   ]
  },
  {
   "cell_type": "code",
   "execution_count": 21,
   "metadata": {},
   "outputs": [],
   "source": [
    "# array() 矩阵间的 *乘代表对应元素相乘,dor()代表矩阵乘法\n",
    "# mat() *就代表了矩阵乘,dot()同样是矩阵乘,点乘用multiply()"
   ]
  },
  {
   "cell_type": "code",
   "execution_count": 22,
   "metadata": {},
   "outputs": [
    {
     "ename": "ValueError",
     "evalue": "matrix must be 2-dimensional",
     "output_type": "error",
     "traceback": [
      "\u001b[0;31m---------------------------------------------------------------------------\u001b[0m",
      "\u001b[0;31mValueError\u001b[0m                                Traceback (most recent call last)",
      "\u001b[0;32m<ipython-input-22-cbb99407beb4>\u001b[0m in \u001b[0;36m<module>\u001b[0;34m\u001b[0m\n\u001b[0;32m----> 1\u001b[0;31m \u001b[0mx2\u001b[0m \u001b[0;34m=\u001b[0m \u001b[0mnp\u001b[0m\u001b[0;34m.\u001b[0m\u001b[0mmatrix\u001b[0m\u001b[0;34m(\u001b[0m\u001b[0;34m[\u001b[0m\u001b[0;34m[\u001b[0m\u001b[0;34m[\u001b[0m\u001b[0;36m1\u001b[0m\u001b[0;34m,\u001b[0m\u001b[0;36m2\u001b[0m\u001b[0;34m]\u001b[0m\u001b[0;34m,\u001b[0m\u001b[0;34m[\u001b[0m\u001b[0;36m3\u001b[0m\u001b[0;34m,\u001b[0m\u001b[0;36m4\u001b[0m\u001b[0;34m]\u001b[0m\u001b[0;34m]\u001b[0m\u001b[0;34m,\u001b[0m\u001b[0;34m[\u001b[0m\u001b[0;34m[\u001b[0m\u001b[0;36m3\u001b[0m\u001b[0;34m,\u001b[0m\u001b[0;36m4\u001b[0m\u001b[0;34m]\u001b[0m\u001b[0;34m,\u001b[0m\u001b[0;34m[\u001b[0m\u001b[0;36m5\u001b[0m\u001b[0;34m,\u001b[0m\u001b[0;36m6\u001b[0m\u001b[0;34m]\u001b[0m\u001b[0;34m]\u001b[0m\u001b[0;34m]\u001b[0m\u001b[0;34m)\u001b[0m\u001b[0;34m\u001b[0m\u001b[0;34m\u001b[0m\u001b[0m\n\u001b[0m",
      "\u001b[0;32m~/anaconda/lib/python3.7/site-packages/numpy/matrixlib/defmatrix.py\u001b[0m in \u001b[0;36m__new__\u001b[0;34m(subtype, data, dtype, copy)\u001b[0m\n\u001b[1;32m    149\u001b[0m         \u001b[0mshape\u001b[0m \u001b[0;34m=\u001b[0m \u001b[0marr\u001b[0m\u001b[0;34m.\u001b[0m\u001b[0mshape\u001b[0m\u001b[0;34m\u001b[0m\u001b[0;34m\u001b[0m\u001b[0m\n\u001b[1;32m    150\u001b[0m         \u001b[0;32mif\u001b[0m \u001b[0;34m(\u001b[0m\u001b[0mndim\u001b[0m \u001b[0;34m>\u001b[0m \u001b[0;36m2\u001b[0m\u001b[0;34m)\u001b[0m\u001b[0;34m:\u001b[0m\u001b[0;34m\u001b[0m\u001b[0;34m\u001b[0m\u001b[0m\n\u001b[0;32m--> 151\u001b[0;31m             \u001b[0;32mraise\u001b[0m \u001b[0mValueError\u001b[0m\u001b[0;34m(\u001b[0m\u001b[0;34m\"matrix must be 2-dimensional\"\u001b[0m\u001b[0;34m)\u001b[0m\u001b[0;34m\u001b[0m\u001b[0;34m\u001b[0m\u001b[0m\n\u001b[0m\u001b[1;32m    152\u001b[0m         \u001b[0;32melif\u001b[0m \u001b[0mndim\u001b[0m \u001b[0;34m==\u001b[0m \u001b[0;36m0\u001b[0m\u001b[0;34m:\u001b[0m\u001b[0;34m\u001b[0m\u001b[0;34m\u001b[0m\u001b[0m\n\u001b[1;32m    153\u001b[0m             \u001b[0mshape\u001b[0m \u001b[0;34m=\u001b[0m \u001b[0;34m(\u001b[0m\u001b[0;36m1\u001b[0m\u001b[0;34m,\u001b[0m \u001b[0;36m1\u001b[0m\u001b[0;34m)\u001b[0m\u001b[0;34m\u001b[0m\u001b[0;34m\u001b[0m\u001b[0m\n",
      "\u001b[0;31mValueError\u001b[0m: matrix must be 2-dimensional"
     ]
    }
   ],
   "source": [
    "x2 = np.matrix([[[1,2],[3,4]],[[3,4],[5,6]]])"
   ]
  },
  {
   "cell_type": "code",
   "execution_count": 30,
   "metadata": {},
   "outputs": [
    {
     "data": {
      "text/plain": [
       "array([[[ 1,  2,  3,  4,  5],\n",
       "        [ 6,  7,  8,  9, 10],\n",
       "        [11, 12, 13, 14, 15],\n",
       "        [16, 17, 18, 19, 20]],\n",
       "\n",
       "       [[21, 22, 23, 24, 25],\n",
       "        [26, 27, 28, 29, 30],\n",
       "        [31, 32, 33, 34, 35],\n",
       "        [36, 37, 38, 39, 40]],\n",
       "\n",
       "       [[41, 42, 43, 44, 45],\n",
       "        [46, 47, 48, 49, 50],\n",
       "        [51, 52, 53, 54, 55],\n",
       "        [56, 57, 58, 59, 60]]])"
      ]
     },
     "execution_count": 30,
     "metadata": {},
     "output_type": "execute_result"
    }
   ],
   "source": [
    "x = np.arange(1,61).reshape((3,4,5))\n",
    "x"
   ]
  },
  {
   "cell_type": "code",
   "execution_count": 31,
   "metadata": {},
   "outputs": [
    {
     "data": {
      "text/plain": [
       "array([[[ 1, 21, 41],\n",
       "        [ 6, 26, 46],\n",
       "        [11, 31, 51],\n",
       "        [16, 36, 56]],\n",
       "\n",
       "       [[ 2, 22, 42],\n",
       "        [ 7, 27, 47],\n",
       "        [12, 32, 52],\n",
       "        [17, 37, 57]],\n",
       "\n",
       "       [[ 3, 23, 43],\n",
       "        [ 8, 28, 48],\n",
       "        [13, 33, 53],\n",
       "        [18, 38, 58]],\n",
       "\n",
       "       [[ 4, 24, 44],\n",
       "        [ 9, 29, 49],\n",
       "        [14, 34, 54],\n",
       "        [19, 39, 59]],\n",
       "\n",
       "       [[ 5, 25, 45],\n",
       "        [10, 30, 50],\n",
       "        [15, 35, 55],\n",
       "        [20, 40, 60]]])"
      ]
     },
     "execution_count": 31,
     "metadata": {},
     "output_type": "execute_result"
    }
   ],
   "source": [
    "np.transpose(x)"
   ]
  },
  {
   "cell_type": "code",
   "execution_count": 32,
   "metadata": {},
   "outputs": [
    {
     "data": {
      "text/plain": [
       "array([[[ 1, 21, 41],\n",
       "        [ 6, 26, 46],\n",
       "        [11, 31, 51],\n",
       "        [16, 36, 56]],\n",
       "\n",
       "       [[ 2, 22, 42],\n",
       "        [ 7, 27, 47],\n",
       "        [12, 32, 52],\n",
       "        [17, 37, 57]],\n",
       "\n",
       "       [[ 3, 23, 43],\n",
       "        [ 8, 28, 48],\n",
       "        [13, 33, 53],\n",
       "        [18, 38, 58]],\n",
       "\n",
       "       [[ 4, 24, 44],\n",
       "        [ 9, 29, 49],\n",
       "        [14, 34, 54],\n",
       "        [19, 39, 59]],\n",
       "\n",
       "       [[ 5, 25, 45],\n",
       "        [10, 30, 50],\n",
       "        [15, 35, 55],\n",
       "        [20, 40, 60]]])"
      ]
     },
     "execution_count": 32,
     "metadata": {},
     "output_type": "execute_result"
    }
   ],
   "source": [
    "x.T"
   ]
  },
  {
   "cell_type": "code",
   "execution_count": null,
   "metadata": {},
   "outputs": [],
   "source": []
  }
 ],
 "metadata": {
  "kernelspec": {
   "display_name": "Python 3",
   "language": "python",
   "name": "python3"
  },
  "language_info": {
   "codemirror_mode": {
    "name": "ipython",
    "version": 3
   },
   "file_extension": ".py",
   "mimetype": "text/x-python",
   "name": "python",
   "nbconvert_exporter": "python",
   "pygments_lexer": "ipython3",
   "version": "3.7.6"
  }
 },
 "nbformat": 4,
 "nbformat_minor": 4
}
