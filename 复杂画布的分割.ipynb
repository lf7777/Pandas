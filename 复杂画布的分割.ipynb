{
 "cells": [
  {
   "cell_type": "code",
   "execution_count": 34,
   "metadata": {},
   "outputs": [],
   "source": [
    "import pandas as pd\n",
    "import numpy as np\n",
    "import matplotlib.pyplot as plt"
   ]
  },
  {
   "cell_type": "code",
   "execution_count": 35,
   "metadata": {},
   "outputs": [],
   "source": [
    "x1 = np.arange(1,1002,1)\n",
    "x2 = np.random.normal(3,1,1001)\n",
    "x3 = np.random.randn(1001)\n",
    "x4 = np.random.rand(1001)\n",
    "x5 = np.random.beta(2,1,1001)"
   ]
  },
  {
   "cell_type": "markdown",
   "metadata": {},
   "source": [
    "# 复杂的散布图矩阵"
   ]
  },
  {
   "cell_type": "code",
   "execution_count": 42,
   "metadata": {},
   "outputs": [],
   "source": [
    "test_data = np.column_stack((x1,x2,x3,x4,x5))"
   ]
  },
  {
   "cell_type": "code",
   "execution_count": 43,
   "metadata": {},
   "outputs": [
    {
     "data": {
      "text/plain": [
       "array([[ 1.00000000e+00,  2.54451842e+00,  1.52347722e+00,\n",
       "         9.63311107e-01,  6.61634757e-01],\n",
       "       [ 2.00000000e+00,  1.04235696e+00,  1.46519906e+00,\n",
       "         9.58440207e-01,  6.32938153e-01],\n",
       "       [ 3.00000000e+00,  3.57470346e+00, -4.18310493e-01,\n",
       "         7.41041011e-01,  8.38100615e-01],\n",
       "       ...,\n",
       "       [ 9.99000000e+02,  3.08019746e+00,  8.52938992e-02,\n",
       "         7.63728720e-01,  9.48571770e-01],\n",
       "       [ 1.00000000e+03,  5.36130499e+00,  5.66188234e-01,\n",
       "         3.41289883e-01,  9.77970802e-01],\n",
       "       [ 1.00100000e+03,  3.31872508e+00, -2.04891350e+00,\n",
       "         1.45744515e-01,  1.80831318e-01]])"
      ]
     },
     "execution_count": 43,
     "metadata": {},
     "output_type": "execute_result"
    }
   ],
   "source": [
    "test_data"
   ]
  },
  {
   "cell_type": "code",
   "execution_count": null,
   "metadata": {},
   "outputs": [],
   "source": []
  },
  {
   "cell_type": "code",
   "execution_count": null,
   "metadata": {},
   "outputs": [],
   "source": []
  },
  {
   "cell_type": "code",
   "execution_count": null,
   "metadata": {},
   "outputs": [],
   "source": []
  },
  {
   "cell_type": "code",
   "execution_count": null,
   "metadata": {},
   "outputs": [],
   "source": []
  },
  {
   "cell_type": "code",
   "execution_count": null,
   "metadata": {},
   "outputs": [],
   "source": []
  },
  {
   "cell_type": "code",
   "execution_count": null,
   "metadata": {},
   "outputs": [],
   "source": []
  },
  {
   "cell_type": "code",
   "execution_count": null,
   "metadata": {},
   "outputs": [],
   "source": []
  },
  {
   "cell_type": "code",
   "execution_count": null,
   "metadata": {},
   "outputs": [],
   "source": []
  }
 ],
 "metadata": {
  "kernelspec": {
   "display_name": "Python 3",
   "language": "python",
   "name": "python3"
  },
  "language_info": {
   "codemirror_mode": {
    "name": "ipython",
    "version": 3
   },
   "file_extension": ".py",
   "mimetype": "text/x-python",
   "name": "python",
   "nbconvert_exporter": "python",
   "pygments_lexer": "ipython3",
   "version": "3.7.6"
  }
 },
 "nbformat": 4,
 "nbformat_minor": 4
}
